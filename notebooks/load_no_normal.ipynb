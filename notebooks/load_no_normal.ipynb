{
 "cells": [
  {
   "cell_type": "code",
   "execution_count": 15,
   "id": "cb01a406-1d8d-47c5-9f29-3c7ae3ca96dc",
   "metadata": {},
   "outputs": [],
   "source": [
    "import pandas as pd\n",
    "\n",
    "def load_all_data(edges_file, features_file, classes_file):\n",
    "    df_patients = pd.read_csv(edges_file)\n",
    "    df_features = pd.read_csv(features_file, index_col=0)\n",
    "    df_classes = pd.read_csv(classes_file, index_col=0).sample(frac=1)\n",
    "    return df_patients, df_features, df_classes"
   ]
  },
  {
   "cell_type": "code",
   "execution_count": 16,
   "id": "1acac2b2-f7ff-4c75-8cac-f036fe02fd13",
   "metadata": {},
   "outputs": [],
   "source": [
    "base_path = \"C:/Users/colombelli/Desktop/TCC/data/N3/\"\n",
    "\n",
    "edges_file = base_path+\"edges.csv\"\n",
    "features_file = base_path+\"features.csv\"\n",
    "classes_file = base_path+\"classes.csv\"\n",
    "df_patients, df_features, df_classes = load_all_data(edges_file, features_file, classes_file)"
   ]
  },
  {
   "cell_type": "code",
   "execution_count": 17,
   "id": "e00813a3-77c8-4ad1-ba74-f31bb555c157",
   "metadata": {},
   "outputs": [
    {
     "data": {
      "text/plain": [
       "array([[0, 1, 0, 0, 0],\n",
       "       [1, 0, 0, 0, 0],\n",
       "       [0, 0, 1, 0, 0],\n",
       "       ...,\n",
       "       [0, 0, 0, 0, 1],\n",
       "       [0, 0, 0, 1, 0],\n",
       "       [0, 0, 1, 0, 0]])"
      ]
     },
     "execution_count": 17,
     "metadata": {},
     "output_type": "execute_result"
    }
   ],
   "source": [
    "from sklearn import preprocessing\n",
    "\n",
    "target_encoding = preprocessing.LabelBinarizer()\n",
    "target_encoding.fit_transform(df_classes['class'])"
   ]
  },
  {
   "cell_type": "code",
   "execution_count": 19,
   "id": "6bd16533-3402-4ab1-a07a-a16cc27f8234",
   "metadata": {},
   "outputs": [
    {
     "data": {
      "text/plain": [
       "array(['normal', 'stage1', 'stage2', 'stage3', 'stage4'], dtype='<U6')"
      ]
     },
     "execution_count": 19,
     "metadata": {},
     "output_type": "execute_result"
    }
   ],
   "source": [
    "target_encoding.classes_"
   ]
  },
  {
   "cell_type": "code",
   "execution_count": 7,
   "id": "0fc0113c-9c9b-4053-8588-25998e1d589d",
   "metadata": {},
   "outputs": [
    {
     "data": {
      "text/html": [
       "<div>\n",
       "<style scoped>\n",
       "    .dataframe tbody tr th:only-of-type {\n",
       "        vertical-align: middle;\n",
       "    }\n",
       "\n",
       "    .dataframe tbody tr th {\n",
       "        vertical-align: top;\n",
       "    }\n",
       "\n",
       "    .dataframe thead th {\n",
       "        text-align: right;\n",
       "    }\n",
       "</style>\n",
       "<table border=\"1\" class=\"dataframe\">\n",
       "  <thead>\n",
       "    <tr style=\"text-align: right;\">\n",
       "      <th></th>\n",
       "      <th>class</th>\n",
       "    </tr>\n",
       "    <tr>\n",
       "      <th>id</th>\n",
       "      <th></th>\n",
       "    </tr>\n",
       "  </thead>\n",
       "  <tbody>\n",
       "    <tr>\n",
       "      <th>TCGA-KL-8331-01</th>\n",
       "      <td>stage2</td>\n",
       "    </tr>\n",
       "    <tr>\n",
       "      <th>TCGA-B3-8121-01</th>\n",
       "      <td>stage1</td>\n",
       "    </tr>\n",
       "    <tr>\n",
       "      <th>TCGA-A4-7584-01</th>\n",
       "      <td>stage1</td>\n",
       "    </tr>\n",
       "    <tr>\n",
       "      <th>TCGA-BQ-5884-11</th>\n",
       "      <td>normal</td>\n",
       "    </tr>\n",
       "    <tr>\n",
       "      <th>TCGA-CZ-5451-01</th>\n",
       "      <td>stage2</td>\n",
       "    </tr>\n",
       "    <tr>\n",
       "      <th>...</th>\n",
       "      <td>...</td>\n",
       "    </tr>\n",
       "    <tr>\n",
       "      <th>TCGA-P4-A5EA-01</th>\n",
       "      <td>stage3</td>\n",
       "    </tr>\n",
       "    <tr>\n",
       "      <th>TCGA-B8-A54E-01</th>\n",
       "      <td>stage1</td>\n",
       "    </tr>\n",
       "    <tr>\n",
       "      <th>TCGA-DV-A4W0-05</th>\n",
       "      <td>stage1</td>\n",
       "    </tr>\n",
       "    <tr>\n",
       "      <th>TCGA-CJ-5689-01</th>\n",
       "      <td>stage1</td>\n",
       "    </tr>\n",
       "    <tr>\n",
       "      <th>TCGA-UZ-A9PX-01</th>\n",
       "      <td>stage1</td>\n",
       "    </tr>\n",
       "  </tbody>\n",
       "</table>\n",
       "<p>547 rows × 1 columns</p>\n",
       "</div>"
      ],
      "text/plain": [
       "                  class\n",
       "id                     \n",
       "TCGA-KL-8331-01  stage2\n",
       "TCGA-B3-8121-01  stage1\n",
       "TCGA-A4-7584-01  stage1\n",
       "TCGA-BQ-5884-11  normal\n",
       "TCGA-CZ-5451-01  stage2\n",
       "...                 ...\n",
       "TCGA-P4-A5EA-01  stage3\n",
       "TCGA-B8-A54E-01  stage1\n",
       "TCGA-DV-A4W0-05  stage1\n",
       "TCGA-CJ-5689-01  stage1\n",
       "TCGA-UZ-A9PX-01  stage1\n",
       "\n",
       "[547 rows x 1 columns]"
      ]
     },
     "execution_count": 7,
     "metadata": {},
     "output_type": "execute_result"
    }
   ],
   "source": [
    "df_classes"
   ]
  },
  {
   "cell_type": "code",
   "execution_count": 5,
   "id": "f9661c12-cabe-4127-9205-8cbde309e56b",
   "metadata": {},
   "outputs": [
    {
     "data": {
      "text/plain": [
       "class \n",
       "stage1    284\n",
       "stage3     98\n",
       "stage2     65\n",
       "stage4     53\n",
       "normal     47\n",
       "dtype: int64"
      ]
     },
     "execution_count": 5,
     "metadata": {},
     "output_type": "execute_result"
    }
   ],
   "source": [
    "df_classes.value_counts()"
   ]
  },
  {
   "cell_type": "code",
   "execution_count": 8,
   "id": "c5564c64-12e2-49b1-a48e-5c842c61e6c2",
   "metadata": {},
   "outputs": [
    {
     "data": {
      "text/html": [
       "<div>\n",
       "<style scoped>\n",
       "    .dataframe tbody tr th:only-of-type {\n",
       "        vertical-align: middle;\n",
       "    }\n",
       "\n",
       "    .dataframe tbody tr th {\n",
       "        vertical-align: top;\n",
       "    }\n",
       "\n",
       "    .dataframe thead th {\n",
       "        text-align: right;\n",
       "    }\n",
       "</style>\n",
       "<table border=\"1\" class=\"dataframe\">\n",
       "  <thead>\n",
       "    <tr style=\"text-align: right;\">\n",
       "      <th></th>\n",
       "      <th>source</th>\n",
       "      <th>target</th>\n",
       "      <th>weight</th>\n",
       "    </tr>\n",
       "  </thead>\n",
       "  <tbody>\n",
       "    <tr>\n",
       "      <th>0</th>\n",
       "      <td>TCGA-B0-5400-01</td>\n",
       "      <td>TCGA-B0-5400-01</td>\n",
       "      <td>1.000000</td>\n",
       "    </tr>\n",
       "    <tr>\n",
       "      <th>1</th>\n",
       "      <td>TCGA-B0-5400-01</td>\n",
       "      <td>TCGA-CJ-6031-01</td>\n",
       "      <td>0.730765</td>\n",
       "    </tr>\n",
       "    <tr>\n",
       "      <th>2</th>\n",
       "      <td>TCGA-B0-5400-01</td>\n",
       "      <td>TCGA-A3-3358-01</td>\n",
       "      <td>0.703268</td>\n",
       "    </tr>\n",
       "    <tr>\n",
       "      <th>3</th>\n",
       "      <td>TCGA-B0-5400-01</td>\n",
       "      <td>TCGA-DV-5568-01</td>\n",
       "      <td>0.707518</td>\n",
       "    </tr>\n",
       "    <tr>\n",
       "      <th>4</th>\n",
       "      <td>TCGA-B0-5400-01</td>\n",
       "      <td>TCGA-CJ-5686-01</td>\n",
       "      <td>0.720245</td>\n",
       "    </tr>\n",
       "    <tr>\n",
       "      <th>...</th>\n",
       "      <td>...</td>\n",
       "      <td>...</td>\n",
       "      <td>...</td>\n",
       "    </tr>\n",
       "    <tr>\n",
       "      <th>12519</th>\n",
       "      <td>TCGA-BQ-7045-01</td>\n",
       "      <td>TCGA-BQ-7045-01</td>\n",
       "      <td>1.000000</td>\n",
       "    </tr>\n",
       "    <tr>\n",
       "      <th>12520</th>\n",
       "      <td>TCGA-BQ-7045-01</td>\n",
       "      <td>TCGA-MH-A854-01</td>\n",
       "      <td>0.703983</td>\n",
       "    </tr>\n",
       "    <tr>\n",
       "      <th>12521</th>\n",
       "      <td>TCGA-MH-A855-01</td>\n",
       "      <td>TCGA-MH-A855-01</td>\n",
       "      <td>1.000000</td>\n",
       "    </tr>\n",
       "    <tr>\n",
       "      <th>12522</th>\n",
       "      <td>TCGA-MH-A854-01</td>\n",
       "      <td>TCGA-MH-A854-01</td>\n",
       "      <td>1.000000</td>\n",
       "    </tr>\n",
       "    <tr>\n",
       "      <th>12523</th>\n",
       "      <td>TCGA-KV-A6GD-01</td>\n",
       "      <td>TCGA-KV-A6GD-01</td>\n",
       "      <td>1.000000</td>\n",
       "    </tr>\n",
       "  </tbody>\n",
       "</table>\n",
       "<p>11837 rows × 3 columns</p>\n",
       "</div>"
      ],
      "text/plain": [
       "                source           target    weight\n",
       "0      TCGA-B0-5400-01  TCGA-B0-5400-01  1.000000\n",
       "1      TCGA-B0-5400-01  TCGA-CJ-6031-01  0.730765\n",
       "2      TCGA-B0-5400-01  TCGA-A3-3358-01  0.703268\n",
       "3      TCGA-B0-5400-01  TCGA-DV-5568-01  0.707518\n",
       "4      TCGA-B0-5400-01  TCGA-CJ-5686-01  0.720245\n",
       "...                ...              ...       ...\n",
       "12519  TCGA-BQ-7045-01  TCGA-BQ-7045-01  1.000000\n",
       "12520  TCGA-BQ-7045-01  TCGA-MH-A854-01  0.703983\n",
       "12521  TCGA-MH-A855-01  TCGA-MH-A855-01  1.000000\n",
       "12522  TCGA-MH-A854-01  TCGA-MH-A854-01  1.000000\n",
       "12523  TCGA-KV-A6GD-01  TCGA-KV-A6GD-01  1.000000\n",
       "\n",
       "[11837 rows x 3 columns]"
      ]
     },
     "execution_count": 8,
     "metadata": {},
     "output_type": "execute_result"
    }
   ],
   "source": [
    "cancer_samples = df_classes.loc[df_classes[\"class\"] != \"normal\"].index\n",
    "\n",
    "df_classes.loc[cancer_samples, :]\n",
    "df_features.loc[cancer_samples, :]\n",
    "df_patients[df_patients['source'].isin(cancer_samples) & \n",
    "            df_patients['target'].isin(cancer_samples)]"
   ]
  },
  {
   "cell_type": "code",
   "execution_count": 9,
   "id": "3cd40841-ca74-4a62-b0b8-66ac6a46db75",
   "metadata": {},
   "outputs": [],
   "source": [
    "df_classes = df_classes.loc[cancer_samples, :]"
   ]
  },
  {
   "cell_type": "code",
   "execution_count": 11,
   "id": "6833281c-c5ec-4586-98ca-45fc211e2058",
   "metadata": {},
   "outputs": [
    {
     "data": {
      "text/plain": [
       "class \n",
       "stage1    284\n",
       "stage3     98\n",
       "stage2     65\n",
       "stage4     53\n",
       "dtype: int64"
      ]
     },
     "execution_count": 11,
     "metadata": {},
     "output_type": "execute_result"
    }
   ],
   "source": [
    "df_classes.value_counts()"
   ]
  },
  {
   "cell_type": "code",
   "execution_count": 14,
   "id": "18dbe5db-2983-4e57-bfe5-024b1a564d98",
   "metadata": {},
   "outputs": [
    {
     "name": "stdout",
     "output_type": "stream",
     "text": [
      "0.44014084507042256\n",
      "1.2755102040816326\n",
      "1.9230769230769231\n",
      "2.358490566037736\n"
     ]
    }
   ],
   "source": [
    "n_samples = len(df_classes)\n",
    "n_classes = 4\n",
    "for count in df_classes.value_counts():\n",
    "    print(n_samples / (n_classes * count))"
   ]
  },
  {
   "cell_type": "code",
   "execution_count": null,
   "id": "137b6f0b-faa7-4760-b46f-2a5f531596e8",
   "metadata": {},
   "outputs": [],
   "source": []
  }
 ],
 "metadata": {
  "kernelspec": {
   "display_name": "Python 3",
   "language": "python",
   "name": "python3"
  },
  "language_info": {
   "codemirror_mode": {
    "name": "ipython",
    "version": 3
   },
   "file_extension": ".py",
   "mimetype": "text/x-python",
   "name": "python",
   "nbconvert_exporter": "python",
   "pygments_lexer": "ipython3",
   "version": "3.6.13"
  }
 },
 "nbformat": 4,
 "nbformat_minor": 5
}
