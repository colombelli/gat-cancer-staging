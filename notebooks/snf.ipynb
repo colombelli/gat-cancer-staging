{
 "cells": [
  {
   "cell_type": "code",
   "execution_count": 1,
   "id": "e950da5e-80d7-4c67-9090-1828af02ed7e",
   "metadata": {},
   "outputs": [
    {
     "ename": "AttributeError",
     "evalue": "module 'snf' has no attribute 'datasets'",
     "output_type": "error",
     "traceback": [
      "\u001b[1;31m---------------------------------------------------------------------------\u001b[0m",
      "\u001b[1;31mAttributeError\u001b[0m                            Traceback (most recent call last)",
      "\u001b[1;32m<ipython-input-1-901b1517d8b0>\u001b[0m in \u001b[0;36m<module>\u001b[1;34m\u001b[0m\n\u001b[0;32m      1\u001b[0m \u001b[1;32mimport\u001b[0m \u001b[0msnf\u001b[0m\u001b[1;33m\u001b[0m\u001b[1;33m\u001b[0m\u001b[0m\n\u001b[1;32m----> 2\u001b[1;33m \u001b[0mdigits\u001b[0m \u001b[1;33m=\u001b[0m \u001b[0msnf\u001b[0m\u001b[1;33m.\u001b[0m\u001b[0mdatasets\u001b[0m\u001b[1;33m.\u001b[0m\u001b[0mload_digits\u001b[0m\u001b[1;33m(\u001b[0m\u001b[1;33m)\u001b[0m\u001b[1;33m\u001b[0m\u001b[1;33m\u001b[0m\u001b[0m\n\u001b[0m\u001b[0;32m      3\u001b[0m \u001b[0mdigits\u001b[0m\u001b[1;33m.\u001b[0m\u001b[0mdata\u001b[0m\u001b[1;33m\u001b[0m\u001b[1;33m\u001b[0m\u001b[0m\n",
      "\u001b[1;31mAttributeError\u001b[0m: module 'snf' has no attribute 'datasets'"
     ]
    }
   ],
   "source": [
    "import snf\n",
    "digits = snf.datasets.load_digits()\n",
    "digits.data"
   ]
  },
  {
   "cell_type": "code",
   "execution_count": 28,
   "id": "75d6d4c1-acdc-4af3-91bc-e502d3c1430f",
   "metadata": {},
   "outputs": [
    {
     "data": {
      "text/plain": [
       "600"
      ]
     },
     "execution_count": 28,
     "metadata": {},
     "output_type": "execute_result"
    }
   ],
   "source": [
    "len(digits.data[0])"
   ]
  },
  {
   "cell_type": "code",
   "execution_count": 33,
   "id": "dced1fe3-8394-4f9b-b409-b271aae84303",
   "metadata": {},
   "outputs": [],
   "source": [
    "affinity_networks = snf.make_affinity(digits.data, metric='euclidean')\n",
    "fused_network = snf.snf(affinity_networks)"
   ]
  },
  {
   "cell_type": "code",
   "execution_count": 10,
   "id": "66c344fe-9786-4abe-ae8e-82f0f8f6b494",
   "metadata": {},
   "outputs": [
    {
     "data": {
      "text/plain": [
       "(600, 600)"
      ]
     },
     "execution_count": 10,
     "metadata": {},
     "output_type": "execute_result"
    }
   ],
   "source": [
    "fused_network.shape"
   ]
  },
  {
   "cell_type": "code",
   "execution_count": 18,
   "id": "6421c544-b131-49de-9afc-72dff2515d12",
   "metadata": {},
   "outputs": [
    {
     "data": {
      "text/plain": [
       "True"
      ]
     },
     "execution_count": 18,
     "metadata": {},
     "output_type": "execute_result"
    }
   ],
   "source": [
    "import numpy as np\n",
    "\n",
    "def check_symmetric(a, rtol=1e-05, atol=1e-08):\n",
    "    return np.allclose(a, a.T, rtol=rtol, atol=atol)\n",
    "\n",
    "check_symmetric(fused_network)"
   ]
  },
  {
   "cell_type": "code",
   "execution_count": 15,
   "id": "6760835b-9023-48d6-9b70-57a8b0c6cc0c",
   "metadata": {},
   "outputs": [],
   "source": [
    "numpy.fill_diagonal(fused_network, 1)"
   ]
  },
  {
   "cell_type": "code",
   "execution_count": 16,
   "id": "a786a0ae-12e0-4a62-bfb6-188395969d96",
   "metadata": {},
   "outputs": [
    {
     "data": {
      "text/plain": [
       "array([[1.00000000e+00, 4.45961825e-03, 4.31131465e-03, ...,\n",
       "        1.30417738e-04, 1.11812794e-04, 1.71489830e-04],\n",
       "       [4.45961825e-03, 1.00000000e+00, 5.18360724e-03, ...,\n",
       "        1.33297048e-04, 1.12474158e-04, 1.79473577e-04],\n",
       "       [4.31131465e-03, 5.18360724e-03, 1.00000000e+00, ...,\n",
       "        1.28992762e-04, 1.07519663e-04, 1.77492231e-04],\n",
       "       ...,\n",
       "       [1.30417738e-04, 1.33297048e-04, 1.28992762e-04, ...,\n",
       "        1.00000000e+00, 2.92642775e-03, 3.29185955e-03],\n",
       "       [1.11812794e-04, 1.12474158e-04, 1.07519663e-04, ...,\n",
       "        2.92642775e-03, 1.00000000e+00, 3.60456328e-03],\n",
       "       [1.71489830e-04, 1.79473577e-04, 1.77492231e-04, ...,\n",
       "        3.29185955e-03, 3.60456328e-03, 1.00000000e+00]])"
      ]
     },
     "execution_count": 16,
     "metadata": {},
     "output_type": "execute_result"
    }
   ],
   "source": [
    "fused_network"
   ]
  },
  {
   "cell_type": "code",
   "execution_count": null,
   "id": "c8fc8c7e-7062-4075-ba71-cdf53d64d1d7",
   "metadata": {},
   "outputs": [],
   "source": [
    "x= fused_network.flatten()"
   ]
  },
  {
   "cell_type": "code",
   "execution_count": 46,
   "id": "54f19b7f-3113-4b5b-83c8-8ddac599f13b",
   "metadata": {},
   "outputs": [
    {
     "data": {
      "text/plain": [
       "181156"
      ]
     },
     "execution_count": 46,
     "metadata": {},
     "output_type": "execute_result"
    }
   ],
   "source": [
    "np.sum(x > 0.001)"
   ]
  },
  {
   "cell_type": "code",
   "execution_count": 50,
   "id": "0918c4c6-6589-4d55-a41e-3e93fdc81474",
   "metadata": {},
   "outputs": [],
   "source": [
    "from sklearn.cluster import spectral_clustering\n",
    "from sklearn.metrics import v_measure_score\n",
    "\n",
    "labels = spectral_clustering(fused_network, n_clusters=4)"
   ]
  },
  {
   "cell_type": "code",
   "execution_count": 51,
   "id": "dbe096e5-7983-4c13-b808-c8834dba9bc0",
   "metadata": {},
   "outputs": [
    {
     "data": {
      "text/plain": [
       "array([0, 0, 0, 0, 0, 2, 0, 0, 0, 0, 0, 0, 0, 0, 0, 0, 0, 0, 0, 0, 0, 0,\n",
       "       0, 0, 0, 0, 0, 0, 0, 0, 0, 0, 0, 0, 0, 0, 0, 0, 0, 0, 0, 0, 0, 0,\n",
       "       0, 0, 0, 0, 0, 0, 0, 0, 0, 0, 0, 0, 0, 0, 0, 0, 0, 0, 0, 0, 0, 0,\n",
       "       0, 0, 0, 0, 0, 0, 0, 0, 0, 0, 0, 0, 0, 0, 0, 0, 0, 0, 0, 0, 0, 0,\n",
       "       0, 0, 0, 0, 0, 0, 0, 0, 0, 0, 0, 0, 0, 0, 0, 0, 0, 0, 2, 2, 0, 0,\n",
       "       0, 0, 0, 0, 0, 0, 0, 0, 0, 0, 0, 0, 0, 0, 0, 0, 0, 0, 0, 0, 0, 0,\n",
       "       0, 0, 0, 0, 0, 0, 0, 0, 0, 0, 0, 0, 0, 0, 0, 0, 0, 0, 0, 0, 0, 0,\n",
       "       0, 0, 0, 0, 2, 0, 0, 0, 0, 0, 0, 0, 0, 0, 0, 0, 0, 0, 0, 0, 0, 0,\n",
       "       0, 0, 0, 0, 0, 0, 0, 0, 0, 0, 0, 0, 0, 0, 0, 0, 0, 0, 0, 0, 0, 0,\n",
       "       0, 0, 2, 3, 2, 3, 3, 2, 3, 2, 2, 2, 3, 3, 3, 2, 3, 2, 2, 3, 3, 2,\n",
       "       2, 2, 3, 3, 2, 3, 3, 3, 2, 3, 3, 3, 2, 3, 3, 3, 3, 3, 3, 2, 3, 2,\n",
       "       3, 2, 3, 2, 3, 3, 2, 2, 2, 2, 3, 2, 3, 2, 3, 3, 2, 2, 3, 3, 2, 3,\n",
       "       2, 3, 2, 3, 3, 3, 3, 2, 3, 2, 3, 3, 3, 2, 3, 3, 3, 3, 3, 3, 3, 3,\n",
       "       3, 2, 3, 3, 2, 3, 3, 2, 2, 3, 3, 2, 2, 3, 3, 2, 3, 3, 3, 3, 3, 2,\n",
       "       3, 2, 3, 3, 2, 3, 3, 3, 3, 2, 3, 2, 2, 3, 3, 2, 3, 3, 3, 2, 3, 3,\n",
       "       3, 2, 3, 3, 2, 3, 3, 3, 3, 3, 3, 3, 3, 2, 2, 2, 3, 2, 3, 3, 2, 3,\n",
       "       3, 3, 3, 3, 3, 2, 3, 3, 2, 3, 3, 2, 3, 3, 2, 3, 3, 2, 3, 3, 2, 3,\n",
       "       3, 3, 3, 3, 2, 2, 3, 2, 3, 2, 3, 3, 3, 3, 2, 2, 3, 3, 2, 2, 2, 2,\n",
       "       3, 2, 3, 3, 1, 1, 1, 1, 1, 1, 1, 1, 1, 1, 1, 1, 1, 1, 1, 1, 1, 1,\n",
       "       1, 1, 1, 1, 1, 1, 1, 1, 1, 1, 1, 1, 1, 1, 1, 1, 1, 1, 1, 1, 1, 1,\n",
       "       2, 1, 1, 1, 1, 1, 1, 1, 1, 1, 1, 1, 1, 1, 1, 1, 1, 1, 1, 1, 1, 1,\n",
       "       1, 1, 1, 2, 1, 1, 1, 1, 1, 1, 1, 1, 1, 2, 1, 1, 1, 1, 1, 1, 1, 1,\n",
       "       1, 1, 1, 1, 1, 1, 1, 1, 1, 1, 1, 1, 1, 1, 2, 1, 1, 1, 1, 1, 1, 1,\n",
       "       1, 1, 1, 1, 1, 1, 1, 1, 1, 1, 1, 1, 1, 1, 1, 1, 1, 1, 1, 1, 1, 1,\n",
       "       1, 1, 1, 1, 1, 1, 1, 1, 1, 1, 1, 1, 1, 1, 1, 1, 1, 1, 1, 1, 1, 1,\n",
       "       1, 1, 1, 1, 1, 1, 1, 1, 1, 1, 1, 1, 1, 1, 1, 1, 1, 1, 1, 1, 1, 1,\n",
       "       1, 2, 1, 1, 1, 1, 1, 1, 1, 1, 1, 1, 1, 1, 1, 1, 1, 1, 2, 1, 1, 1,\n",
       "       1, 1, 1, 1, 1, 1])"
      ]
     },
     "execution_count": 51,
     "metadata": {},
     "output_type": "execute_result"
    }
   ],
   "source": [
    "labels"
   ]
  },
  {
   "cell_type": "code",
   "execution_count": null,
   "id": "9a18e95d-b54e-4afa-90be-7436514448ce",
   "metadata": {},
   "outputs": [],
   "source": [
    "}"
   ]
  }
 ],
 "metadata": {
  "kernelspec": {
   "display_name": "Python 3",
   "language": "python",
   "name": "python3"
  },
  "language_info": {
   "codemirror_mode": {
    "name": "ipython",
    "version": 3
   },
   "file_extension": ".py",
   "mimetype": "text/x-python",
   "name": "python",
   "nbconvert_exporter": "python",
   "pygments_lexer": "ipython3",
   "version": "3.6.13"
  }
 },
 "nbformat": 4,
 "nbformat_minor": 5
}
