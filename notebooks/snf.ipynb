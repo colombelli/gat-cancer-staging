{
 "cells": [
  {
   "cell_type": "code",
   "execution_count": 6,
   "id": "e950da5e-80d7-4c67-9090-1828af02ed7e",
   "metadata": {},
   "outputs": [
    {
     "data": {
      "text/plain": [
       "[array([[0.06588, 0.19731, 0.10383, ..., 0.39437, 0.04997, 0.34487],\n",
       "        [0.04914, 0.17597, 0.10551, ..., 0.44528, 0.08398, 0.35409],\n",
       "        [0.03417, 0.22765, 0.10877, ..., 0.44503, 0.07123, 0.26146],\n",
       "        ...,\n",
       "        [0.20397, 0.63796, 0.2894 , ..., 0.44367, 0.26406, 0.51523],\n",
       "        [0.14686, 0.50432, 0.31241, ..., 0.44339, 0.07831, 0.43733],\n",
       "        [0.19815, 0.4815 , 0.45344, ..., 0.42721, 0.13237, 0.30224]]),\n",
       " array([[0., 3., 4., ..., 0., 0., 0.],\n",
       "        [0., 0., 0., ..., 0., 0., 0.],\n",
       "        [0., 0., 1., ..., 2., 1., 0.],\n",
       "        ...,\n",
       "        [0., 1., 3., ..., 4., 4., 2.],\n",
       "        [0., 0., 3., ..., 4., 4., 3.],\n",
       "        [0., 0., 1., ..., 0., 0., 0.]]),\n",
       " array([[ 98., 236., 531., ...,  15.,  12.,  13.],\n",
       "        [121., 193., 607., ...,  13.,  15.,  11.],\n",
       "        [115., 141., 590., ...,  14.,  13.,   6.],\n",
       "        ...,\n",
       "        [265., 537., 776., ...,   7.,  11.,  17.],\n",
       "        [261., 387., 712., ...,  12.,  12.,  17.],\n",
       "        [315., 449., 734., ...,  12.,  10.,  13.]]),\n",
       " array([[1.1030000e-02, 8.3147000e-01, 1.5351800e+01, ..., 2.0007250e+01,\n",
       "         4.7032580e+01, 5.3920846e+02],\n",
       "        [3.8270000e-02, 1.1667500e+00, 1.0526910e+01, ..., 4.4536710e+01,\n",
       "         4.6338950e+01, 5.1849657e+02],\n",
       "        [4.2700000e-02, 1.2250100e+00, 8.2738000e+00, ..., 2.6292170e+01,\n",
       "         4.4574820e+01, 5.4991269e+02],\n",
       "        ...,\n",
       "        [1.0354000e-01, 2.8731200e+00, 2.1053250e+01, ..., 4.3619710e+01,\n",
       "         7.0475750e+01, 4.4642696e+02],\n",
       "        [3.0930000e-02, 3.5061700e+00, 4.2370920e+01, ..., 5.5956160e+01,\n",
       "         7.7509410e+01, 5.0050887e+02],\n",
       "        [1.5260000e-02, 2.3338000e-01, 7.1856200e+00, ..., 2.1382250e+01,\n",
       "         5.4462100e+01, 4.1231369e+02]])]"
      ]
     },
     "execution_count": 6,
     "metadata": {},
     "output_type": "execute_result"
    }
   ],
   "source": [
    "import snf\n",
    "digits = snf.datasets.load_digits()\n",
    "digits.data"
   ]
  },
  {
   "cell_type": "code",
   "execution_count": 28,
   "id": "75d6d4c1-acdc-4af3-91bc-e502d3c1430f",
   "metadata": {},
   "outputs": [
    {
     "data": {
      "text/plain": [
       "600"
      ]
     },
     "execution_count": 28,
     "metadata": {},
     "output_type": "execute_result"
    }
   ],
   "source": [
    "len(digits.data[0])"
   ]
  },
  {
   "cell_type": "code",
   "execution_count": 33,
   "id": "dced1fe3-8394-4f9b-b409-b271aae84303",
   "metadata": {},
   "outputs": [],
   "source": [
    "affinity_networks = snf.make_affinity(digits.data, metric='euclidean')\n",
    "fused_network = snf.snf(affinity_networks)"
   ]
  },
  {
   "cell_type": "code",
   "execution_count": 10,
   "id": "66c344fe-9786-4abe-ae8e-82f0f8f6b494",
   "metadata": {},
   "outputs": [
    {
     "data": {
      "text/plain": [
       "(600, 600)"
      ]
     },
     "execution_count": 10,
     "metadata": {},
     "output_type": "execute_result"
    }
   ],
   "source": [
    "fused_network.shape"
   ]
  },
  {
   "cell_type": "code",
   "execution_count": 18,
   "id": "6421c544-b131-49de-9afc-72dff2515d12",
   "metadata": {},
   "outputs": [
    {
     "data": {
      "text/plain": [
       "True"
      ]
     },
     "execution_count": 18,
     "metadata": {},
     "output_type": "execute_result"
    }
   ],
   "source": [
    "import numpy as np\n",
    "\n",
    "def check_symmetric(a, rtol=1e-05, atol=1e-08):\n",
    "    return np.allclose(a, a.T, rtol=rtol, atol=atol)\n",
    "\n",
    "check_symmetric(fused_network)"
   ]
  },
  {
   "cell_type": "code",
   "execution_count": 15,
   "id": "6760835b-9023-48d6-9b70-57a8b0c6cc0c",
   "metadata": {},
   "outputs": [],
   "source": [
    "numpy.fill_diagonal(fused_network, 1)"
   ]
  },
  {
   "cell_type": "code",
   "execution_count": 16,
   "id": "a786a0ae-12e0-4a62-bfb6-188395969d96",
   "metadata": {},
   "outputs": [
    {
     "data": {
      "text/plain": [
       "array([[1.00000000e+00, 4.45961825e-03, 4.31131465e-03, ...,\n",
       "        1.30417738e-04, 1.11812794e-04, 1.71489830e-04],\n",
       "       [4.45961825e-03, 1.00000000e+00, 5.18360724e-03, ...,\n",
       "        1.33297048e-04, 1.12474158e-04, 1.79473577e-04],\n",
       "       [4.31131465e-03, 5.18360724e-03, 1.00000000e+00, ...,\n",
       "        1.28992762e-04, 1.07519663e-04, 1.77492231e-04],\n",
       "       ...,\n",
       "       [1.30417738e-04, 1.33297048e-04, 1.28992762e-04, ...,\n",
       "        1.00000000e+00, 2.92642775e-03, 3.29185955e-03],\n",
       "       [1.11812794e-04, 1.12474158e-04, 1.07519663e-04, ...,\n",
       "        2.92642775e-03, 1.00000000e+00, 3.60456328e-03],\n",
       "       [1.71489830e-04, 1.79473577e-04, 1.77492231e-04, ...,\n",
       "        3.29185955e-03, 3.60456328e-03, 1.00000000e+00]])"
      ]
     },
     "execution_count": 16,
     "metadata": {},
     "output_type": "execute_result"
    }
   ],
   "source": [
    "fused_network"
   ]
  },
  {
   "cell_type": "code",
   "execution_count": null,
   "id": "c8fc8c7e-7062-4075-ba71-cdf53d64d1d7",
   "metadata": {},
   "outputs": [],
   "source": [
    "x= fused_network.flatten()"
   ]
  },
  {
   "cell_type": "code",
   "execution_count": 46,
   "id": "54f19b7f-3113-4b5b-83c8-8ddac599f13b",
   "metadata": {},
   "outputs": [
    {
     "data": {
      "text/plain": [
       "181156"
      ]
     },
     "execution_count": 46,
     "metadata": {},
     "output_type": "execute_result"
    }
   ],
   "source": [
    "np.sum(x > 0.001)"
   ]
  },
  {
   "cell_type": "code",
   "execution_count": 50,
   "id": "0918c4c6-6589-4d55-a41e-3e93fdc81474",
   "metadata": {},
   "outputs": [],
   "source": [
    "from sklearn.cluster import spectral_clustering\n",
    "from sklearn.metrics import v_measure_score\n",
    "\n",
    "labels = spectral_clustering(fused_network, n_clusters=4)"
   ]
  },
  {
   "cell_type": "code",
   "execution_count": 51,
   "id": "dbe096e5-7983-4c13-b808-c8834dba9bc0",
   "metadata": {},
   "outputs": [
    {
     "data": {
      "text/plain": [
       "array([0, 0, 0, 0, 0, 2, 0, 0, 0, 0, 0, 0, 0, 0, 0, 0, 0, 0, 0, 0, 0, 0,\n",
       "       0, 0, 0, 0, 0, 0, 0, 0, 0, 0, 0, 0, 0, 0, 0, 0, 0, 0, 0, 0, 0, 0,\n",
       "       0, 0, 0, 0, 0, 0, 0, 0, 0, 0, 0, 0, 0, 0, 0, 0, 0, 0, 0, 0, 0, 0,\n",
       "       0, 0, 0, 0, 0, 0, 0, 0, 0, 0, 0, 0, 0, 0, 0, 0, 0, 0, 0, 0, 0, 0,\n",
       "       0, 0, 0, 0, 0, 0, 0, 0, 0, 0, 0, 0, 0, 0, 0, 0, 0, 0, 2, 2, 0, 0,\n",
       "       0, 0, 0, 0, 0, 0, 0, 0, 0, 0, 0, 0, 0, 0, 0, 0, 0, 0, 0, 0, 0, 0,\n",
       "       0, 0, 0, 0, 0, 0, 0, 0, 0, 0, 0, 0, 0, 0, 0, 0, 0, 0, 0, 0, 0, 0,\n",
       "       0, 0, 0, 0, 2, 0, 0, 0, 0, 0, 0, 0, 0, 0, 0, 0, 0, 0, 0, 0, 0, 0,\n",
       "       0, 0, 0, 0, 0, 0, 0, 0, 0, 0, 0, 0, 0, 0, 0, 0, 0, 0, 0, 0, 0, 0,\n",
       "       0, 0, 2, 3, 2, 3, 3, 2, 3, 2, 2, 2, 3, 3, 3, 2, 3, 2, 2, 3, 3, 2,\n",
       "       2, 2, 3, 3, 2, 3, 3, 3, 2, 3, 3, 3, 2, 3, 3, 3, 3, 3, 3, 2, 3, 2,\n",
       "       3, 2, 3, 2, 3, 3, 2, 2, 2, 2, 3, 2, 3, 2, 3, 3, 2, 2, 3, 3, 2, 3,\n",
       "       2, 3, 2, 3, 3, 3, 3, 2, 3, 2, 3, 3, 3, 2, 3, 3, 3, 3, 3, 3, 3, 3,\n",
       "       3, 2, 3, 3, 2, 3, 3, 2, 2, 3, 3, 2, 2, 3, 3, 2, 3, 3, 3, 3, 3, 2,\n",
       "       3, 2, 3, 3, 2, 3, 3, 3, 3, 2, 3, 2, 2, 3, 3, 2, 3, 3, 3, 2, 3, 3,\n",
       "       3, 2, 3, 3, 2, 3, 3, 3, 3, 3, 3, 3, 3, 2, 2, 2, 3, 2, 3, 3, 2, 3,\n",
       "       3, 3, 3, 3, 3, 2, 3, 3, 2, 3, 3, 2, 3, 3, 2, 3, 3, 2, 3, 3, 2, 3,\n",
       "       3, 3, 3, 3, 2, 2, 3, 2, 3, 2, 3, 3, 3, 3, 2, 2, 3, 3, 2, 2, 2, 2,\n",
       "       3, 2, 3, 3, 1, 1, 1, 1, 1, 1, 1, 1, 1, 1, 1, 1, 1, 1, 1, 1, 1, 1,\n",
       "       1, 1, 1, 1, 1, 1, 1, 1, 1, 1, 1, 1, 1, 1, 1, 1, 1, 1, 1, 1, 1, 1,\n",
       "       2, 1, 1, 1, 1, 1, 1, 1, 1, 1, 1, 1, 1, 1, 1, 1, 1, 1, 1, 1, 1, 1,\n",
       "       1, 1, 1, 2, 1, 1, 1, 1, 1, 1, 1, 1, 1, 2, 1, 1, 1, 1, 1, 1, 1, 1,\n",
       "       1, 1, 1, 1, 1, 1, 1, 1, 1, 1, 1, 1, 1, 1, 2, 1, 1, 1, 1, 1, 1, 1,\n",
       "       1, 1, 1, 1, 1, 1, 1, 1, 1, 1, 1, 1, 1, 1, 1, 1, 1, 1, 1, 1, 1, 1,\n",
       "       1, 1, 1, 1, 1, 1, 1, 1, 1, 1, 1, 1, 1, 1, 1, 1, 1, 1, 1, 1, 1, 1,\n",
       "       1, 1, 1, 1, 1, 1, 1, 1, 1, 1, 1, 1, 1, 1, 1, 1, 1, 1, 1, 1, 1, 1,\n",
       "       1, 2, 1, 1, 1, 1, 1, 1, 1, 1, 1, 1, 1, 1, 1, 1, 1, 1, 2, 1, 1, 1,\n",
       "       1, 1, 1, 1, 1, 1])"
      ]
     },
     "execution_count": 51,
     "metadata": {},
     "output_type": "execute_result"
    }
   ],
   "source": [
    "labels"
   ]
  },
  {
   "cell_type": "code",
   "execution_count": null,
   "id": "9a18e95d-b54e-4afa-90be-7436514448ce",
   "metadata": {},
   "outputs": [],
   "source": [
    "}"
   ]
  }
 ],
 "metadata": {
  "kernelspec": {
   "display_name": "Python 3",
   "language": "python",
   "name": "python3"
  },
  "language_info": {
   "codemirror_mode": {
    "name": "ipython",
    "version": 3
   },
   "file_extension": ".py",
   "mimetype": "text/x-python",
   "name": "python",
   "nbconvert_exporter": "python",
   "pygments_lexer": "ipython3",
   "version": "3.6.13"
  }
 },
 "nbformat": 4,
 "nbformat_minor": 5
}
