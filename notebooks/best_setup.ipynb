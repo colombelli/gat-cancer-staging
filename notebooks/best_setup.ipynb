{
 "cells": [
  {
   "cell_type": "code",
   "execution_count": 4,
   "id": "d22c2f72-0f38-4dc1-93bc-6cc2d7e66e4e",
   "metadata": {},
   "outputs": [],
   "source": [
    "import pandas as pd\n",
    "import numpy as np"
   ]
  },
  {
   "cell_type": "code",
   "execution_count": 1,
   "id": "e18096bf-4acf-4ba2-aa2a-427099976c02",
   "metadata": {},
   "outputs": [],
   "source": [
    "base = \"C:/Users/colombelli/Desktop/TCC/experiments/\"\n",
    "cancers = [\"COAD\", \"KIRC\", \"LUAD\"]\n",
    "thresholds = [\"0\", \"01\", \"02\", \"03\", \"04\", \"05\", \"06\", \"07\", \"08\"]"
   ]
  },
  {
   "cell_type": "code",
   "execution_count": 9,
   "id": "f02a0745-e6c6-4525-9fe2-6e7aba1d9965",
   "metadata": {},
   "outputs": [],
   "source": [
    "def print_best_experiment(dfs):\n",
    "    auc_pr_means = []\n",
    "    for th, df in dfs.items():\n",
    "        score = df[\"auc_pr\"].mean()\n",
    "        print(th, score)\n",
    "        auc_pr_means.append(score)\n",
    "\n",
    "    best = np.argmax(np.array(auc_pr_means))\n",
    "    print(f\"\\nBest threshold: {thresholds[best]} | Mean PR_AUC: {auc_pr_means[best]}\")"
   ]
  },
  {
   "cell_type": "code",
   "execution_count": 10,
   "id": "14e47450-acf0-41bc-b27b-11577c20e6de",
   "metadata": {},
   "outputs": [
    {
     "name": "stdout",
     "output_type": "stream",
     "text": [
      "COAD\n",
      "0 0.26468479335308076\n",
      "01 0.27622741758823394\n",
      "02 0.2622584939002991\n",
      "03 0.29013072699308395\n",
      "04 0.2669935211539268\n",
      "05 0.3680517911911011\n",
      "06 0.3833411306142807\n",
      "07 0.40260197818279264\n",
      "08 0.39034529626369474\n",
      "\n",
      "Best threshold: 07 | Mean PR_AUC: 0.40260197818279264\n",
      "\n",
      "\n",
      "KIRC\n",
      "0 0.2594259440898895\n",
      "01 0.38730535060167315\n",
      "02 0.3210790574550629\n",
      "03 0.41072177439928054\n",
      "04 0.4074695646762848\n",
      "05 0.4335413157939911\n",
      "06 0.5411616444587708\n",
      "07 0.5210995435714721\n",
      "08 0.5301434576511384\n",
      "\n",
      "Best threshold: 06 | Mean PR_AUC: 0.5411616444587708\n",
      "\n",
      "\n",
      "LUAD\n",
      "0 0.26427325904369353\n",
      "01 0.28499764800071714\n",
      "02 0.2648542657494545\n",
      "03 0.30269743502140045\n",
      "04 0.2992187738418579\n",
      "05 0.34368540197610853\n",
      "06 0.4099926114082336\n",
      "07 0.41102340519428254\n",
      "08 0.4813855439424515\n",
      "\n",
      "Best threshold: 08 | Mean PR_AUC: 0.4813855439424515\n",
      "\n",
      "\n"
     ]
    }
   ],
   "source": [
    "for cancer in cancers:\n",
    "    print(cancer)\n",
    "    dfs = {}\n",
    "    for th in thresholds:\n",
    "        dfs[th] = pd.read_csv(f\"{base}{cancer}/thresholds_2/{th}_005/gat_results.csv\")\n",
    "    print_best_experiment(dfs)\n",
    "    print(\"\\n\")"
   ]
  },
  {
   "cell_type": "code",
   "execution_count": 11,
   "id": "790f759d-fffd-420f-bebc-1e916515d82d",
   "metadata": {},
   "outputs": [
    {
     "name": "stdout",
     "output_type": "stream",
     "text": [
      "COAD\n",
      "0 0.3841559857130051\n",
      "01 0.3841559857130051\n",
      "02 0.3841559857130051\n",
      "03 0.3841559857130051\n",
      "04 0.3841559857130051\n",
      "05 0.3841559857130051\n",
      "06 0.3841559857130051\n",
      "07 0.3841559857130051\n",
      "08 0.3841559857130051\n",
      "\n",
      "Best threshold: 0 | Mean PR_AUC: 0.3841559857130051\n",
      "\n",
      "\n",
      "KIRC\n",
      "0 0.5447535365819931\n",
      "01 0.5447535365819931\n",
      "02 0.5447535365819931\n",
      "03 0.5447535365819931\n",
      "04 0.5447535365819931\n",
      "05 0.5447535365819931\n",
      "06 0.5447535365819931\n",
      "07 0.5447535365819931\n",
      "08 0.5447535365819931\n",
      "\n",
      "Best threshold: 0 | Mean PR_AUC: 0.5447535365819931\n",
      "\n",
      "\n",
      "LUAD\n",
      "0 0.4117051333189011\n",
      "01 0.4117051333189011\n",
      "02 0.4117051333189011\n",
      "03 0.4117051333189011\n",
      "04 0.4117051333189011\n",
      "05 0.4117051333189011\n",
      "06 0.4117051333189011\n",
      "07 0.4117051333189011\n",
      "08 0.4117051333189011\n",
      "\n",
      "Best threshold: 0 | Mean PR_AUC: 0.4117051333189011\n",
      "\n",
      "\n"
     ]
    }
   ],
   "source": [
    "for cancer in cancers:\n",
    "    print(cancer)\n",
    "    dfs = {}\n",
    "    for th in thresholds:\n",
    "        dfs[th] = pd.read_csv(f\"{base}{cancer}/thresholds_2/{th}_005/mlp_results.csv\")\n",
    "    print_best_experiment(dfs)\n",
    "    print(\"\\n\")"
   ]
  },
  {
   "cell_type": "code",
   "execution_count": null,
   "id": "32693bb2-d806-4330-88dc-1220bea25df4",
   "metadata": {},
   "outputs": [],
   "source": []
  }
 ],
 "metadata": {
  "kernelspec": {
   "display_name": "Python 3",
   "language": "python",
   "name": "python3"
  },
  "language_info": {
   "codemirror_mode": {
    "name": "ipython",
    "version": 3
   },
   "file_extension": ".py",
   "mimetype": "text/x-python",
   "name": "python",
   "nbconvert_exporter": "python",
   "pygments_lexer": "ipython3",
   "version": "3.6.13"
  }
 },
 "nbformat": 4,
 "nbformat_minor": 5
}
