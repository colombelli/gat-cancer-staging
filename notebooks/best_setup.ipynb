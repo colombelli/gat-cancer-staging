{
 "cells": [
  {
   "cell_type": "code",
   "execution_count": 11,
   "id": "d22c2f72-0f38-4dc1-93bc-6cc2d7e66e4e",
   "metadata": {},
   "outputs": [],
   "source": [
    "import pandas as pd\n",
    "import numpy as np"
   ]
  },
  {
   "cell_type": "code",
   "execution_count": 4,
   "id": "e18096bf-4acf-4ba2-aa2a-427099976c02",
   "metadata": {},
   "outputs": [],
   "source": [
    "base = \"C:/Users/colombelli/Desktop/TCC/experiments/\"\n",
    "cancers = [\"COAD\", \"KIRC\", \"LUAD\"]\n",
    "thresholds = [\"0\", \"01\", \"02\", \"03\", \"04\", \"05\", \"06\", \"07\", \"08\"]"
   ]
  },
  {
   "cell_type": "code",
   "execution_count": 32,
   "id": "f02a0745-e6c6-4525-9fe2-6e7aba1d9965",
   "metadata": {},
   "outputs": [],
   "source": [
    "def print_best_experiment(dfs):\n",
    "    auc_pr_means = []\n",
    "    for th, df in dfs.items():\n",
    "        score = df[\"auc_pr\"].mean()\n",
    "        print(th, score)\n",
    "        auc_pr_means.append(score)\n",
    "\n",
    "    best = np.argmax(np.array(auc_pr_means))\n",
    "    print(f\"\\nBest threshold: {thresholds[best]} | Mean PR_AUC: {auc_pr_means[best]}\")"
   ]
  },
  {
   "cell_type": "code",
   "execution_count": 33,
   "id": "14e47450-acf0-41bc-b27b-11577c20e6de",
   "metadata": {},
   "outputs": [
    {
     "name": "stdout",
     "output_type": "stream",
     "text": [
      "COAD\n",
      "0 0.2766595870256424\n",
      "01 0.23119424730539323\n",
      "02 0.2731010288000107\n",
      "03 0.29628346860408783\n",
      "04 0.32336586713790894\n",
      "05 0.33971013575792314\n",
      "06 0.3080821707844734\n",
      "07 0.3754914075136185\n",
      "08 0.34559578001499175\n",
      "\n",
      "Best threshold: 07 | Mean PR_AUC: 0.3754914075136185\n",
      "\n",
      "\n",
      "KIRC\n",
      "0 0.27473386824131013\n",
      "01 0.27078657895326613\n",
      "02 0.30144614577293394\n",
      "03 0.3426149010658264\n",
      "04 0.3562072515487671\n",
      "05 0.4659923553466797\n",
      "06 0.5085892587900162\n",
      "07 0.5131441563367843\n",
      "08 0.5243462711572647\n",
      "\n",
      "Best threshold: 08 | Mean PR_AUC: 0.5243462711572647\n",
      "\n",
      "\n",
      "LUAD\n",
      "0 0.3151121765375137\n",
      "01 0.346932215988636\n",
      "02 0.33160908818244933\n",
      "03 0.3067025452852249\n",
      "04 0.3239187180995941\n",
      "05 0.38868422210216524\n",
      "06 0.34940673112869264\n",
      "07 0.39214587211608887\n",
      "08 0.4160037815570831\n",
      "\n",
      "Best threshold: 08 | Mean PR_AUC: 0.4160037815570831\n",
      "\n",
      "\n"
     ]
    }
   ],
   "source": [
    "for cancer in cancers:\n",
    "    print(cancer)\n",
    "    dfs = {}\n",
    "    for th in thresholds:\n",
    "        dfs[th] = pd.read_csv(f\"{base}{cancer}/thresholds/{th}_005/gat_results.csv\")\n",
    "    print_best_experiment(dfs)\n",
    "    print(\"\\n\")"
   ]
  },
  {
   "cell_type": "code",
   "execution_count": 34,
   "id": "790f759d-fffd-420f-bebc-1e916515d82d",
   "metadata": {},
   "outputs": [
    {
     "name": "stdout",
     "output_type": "stream",
     "text": [
      "COAD\n",
      "0 0.37143472731113436\n",
      "01 0.34955410957336425\n",
      "02 0.36921526491642\n",
      "03 0.2916510120034218\n",
      "04 0.3703647807240486\n",
      "05 0.3302511930465698\n",
      "06 0.30571545362472535\n",
      "07 0.35592780709266664\n",
      "08 0.35895153880119324\n",
      "\n",
      "Best threshold: 0 | Mean PR_AUC: 0.37143472731113436\n",
      "\n",
      "\n",
      "KIRC\n",
      "0 0.49347943961620333\n",
      "01 0.47552268505096434\n",
      "02 0.42442644834518434\n",
      "03 0.4842646837234497\n",
      "04 0.4971975237131119\n",
      "05 0.4868912547826767\n",
      "06 0.46492244601249694\n",
      "07 0.4735854625701904\n",
      "08 0.5153014451265335\n",
      "\n",
      "Best threshold: 08 | Mean PR_AUC: 0.5153014451265335\n",
      "\n",
      "\n",
      "LUAD\n",
      "0 0.44359841346740725\n",
      "01 0.40054511427879336\n",
      "02 0.3680616483092308\n",
      "03 0.37133684754371643\n",
      "04 0.40417052805423737\n",
      "05 0.4206005781888962\n",
      "06 0.36432301700115205\n",
      "07 0.37048348486423494\n",
      "08 0.3674666166305542\n",
      "\n",
      "Best threshold: 0 | Mean PR_AUC: 0.44359841346740725\n",
      "\n",
      "\n"
     ]
    }
   ],
   "source": [
    "for cancer in cancers:\n",
    "    print(cancer)\n",
    "    dfs = {}\n",
    "    for th in thresholds:\n",
    "        dfs[th] = pd.read_csv(f\"{base}{cancer}/thresholds/{th}_005/mlp_results.csv\")\n",
    "    print_best_experiment(dfs)\n",
    "    print(\"\\n\")"
   ]
  },
  {
   "cell_type": "code",
   "execution_count": null,
   "id": "32693bb2-d806-4330-88dc-1220bea25df4",
   "metadata": {},
   "outputs": [],
   "source": []
  }
 ],
 "metadata": {
  "kernelspec": {
   "display_name": "Python 3",
   "language": "python",
   "name": "python3"
  },
  "language_info": {
   "codemirror_mode": {
    "name": "ipython",
    "version": 3
   },
   "file_extension": ".py",
   "mimetype": "text/x-python",
   "name": "python",
   "nbconvert_exporter": "python",
   "pygments_lexer": "ipython3",
   "version": "3.6.13"
  }
 },
 "nbformat": 4,
 "nbformat_minor": 5
}
