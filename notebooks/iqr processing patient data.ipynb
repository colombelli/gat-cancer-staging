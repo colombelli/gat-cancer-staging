{
 "cells": [
  {
   "cell_type": "code",
   "execution_count": 63,
   "id": "inside-dressing",
   "metadata": {},
   "outputs": [],
   "source": [
    "import pandas as pd\n",
    "from scipy.stats import iqr"
   ]
  },
  {
   "cell_type": "code",
   "execution_count": 3,
   "id": "designed-edward",
   "metadata": {},
   "outputs": [],
   "source": [
    "df = pd.read_csv(\"/home/colombelli/Documents/datasets/acgt/kidney/transposed_exp_log2_staging_match.csv\", index_col=0)\n",
    "df = df.T"
   ]
  },
  {
   "cell_type": "code",
   "execution_count": 20,
   "id": "suitable-infection",
   "metadata": {},
   "outputs": [],
   "source": [
    "iqr_th = 3\n",
    "selected_cols = []\n",
    "\n",
    "for col in df.columns:\n",
    "    if iqr(df[col]) > iqr_th:\n",
    "        selected_cols.append(col)"
   ]
  },
  {
   "cell_type": "code",
   "execution_count": 21,
   "id": "opening-hawaiian",
   "metadata": {},
   "outputs": [
    {
     "data": {
      "text/plain": [
       "650"
      ]
     },
     "execution_count": 21,
     "metadata": {},
     "output_type": "execute_result"
    }
   ],
   "source": [
    "# counts:\n",
    "# iqr > 0.6: 13848\n",
    "# iqr > 1: 8419\n",
    "# iqr > 2: 2281\n",
    "# iqr > 3: 650\n",
    "len(selected_cols)"
   ]
  },
  {
   "cell_type": "code",
   "execution_count": 25,
   "id": "offensive-answer",
   "metadata": {},
   "outputs": [
    {
     "data": {
      "text/html": [
       "<div>\n",
       "<style scoped>\n",
       "    .dataframe tbody tr th:only-of-type {\n",
       "        vertical-align: middle;\n",
       "    }\n",
       "\n",
       "    .dataframe tbody tr th {\n",
       "        vertical-align: top;\n",
       "    }\n",
       "\n",
       "    .dataframe thead th {\n",
       "        text-align: right;\n",
       "    }\n",
       "</style>\n",
       "<table border=\"1\" class=\"dataframe\">\n",
       "  <thead>\n",
       "    <tr style=\"text-align: right;\">\n",
       "      <th></th>\n",
       "      <th>TCGA.CJ.5672.11</th>\n",
       "      <th>TCGA.CJ.5678.11</th>\n",
       "      <th>TCGA.B0.5712.11</th>\n",
       "      <th>TCGA.CZ.5458.11</th>\n",
       "      <th>TCGA.CW.5580.11</th>\n",
       "      <th>TCGA.CZ.5463.11</th>\n",
       "      <th>TCGA.CZ.5469.11</th>\n",
       "      <th>TCGA.CZ.4864.11</th>\n",
       "      <th>TCGA.B8.5549.11</th>\n",
       "      <th>TCGA.B0.5701.11</th>\n",
       "      <th>...</th>\n",
       "      <th>TCGA.CJ.4638.01</th>\n",
       "      <th>TCGA.CJ.5677.01</th>\n",
       "      <th>TCGA.CJ.4887.01</th>\n",
       "      <th>TCGA.CZ.5987.01</th>\n",
       "      <th>TCGA.B4.5377.01</th>\n",
       "      <th>TCGA.B0.4819.01</th>\n",
       "      <th>TCGA.B0.4698.01</th>\n",
       "      <th>TCGA.B0.4712.01</th>\n",
       "      <th>TCGA.B2.5639.01</th>\n",
       "      <th>TCGA.CJ.4871.01</th>\n",
       "    </tr>\n",
       "  </thead>\n",
       "  <tbody>\n",
       "    <tr>\n",
       "      <th>652919</th>\n",
       "      <td>4.760210</td>\n",
       "      <td>4.870084</td>\n",
       "      <td>0.000000</td>\n",
       "      <td>3.466040</td>\n",
       "      <td>5.383131</td>\n",
       "      <td>5.846894</td>\n",
       "      <td>6.691227</td>\n",
       "      <td>5.399701</td>\n",
       "      <td>5.017102</td>\n",
       "      <td>4.423108</td>\n",
       "      <td>...</td>\n",
       "      <td>1.284218</td>\n",
       "      <td>0.000000</td>\n",
       "      <td>2.556405</td>\n",
       "      <td>0.000000</td>\n",
       "      <td>6.600659</td>\n",
       "      <td>0.000000</td>\n",
       "      <td>4.548665</td>\n",
       "      <td>1.214747</td>\n",
       "      <td>1.653473</td>\n",
       "      <td>4.738768</td>\n",
       "    </tr>\n",
       "    <tr>\n",
       "      <th>26154</th>\n",
       "      <td>3.022403</td>\n",
       "      <td>4.385183</td>\n",
       "      <td>4.287295</td>\n",
       "      <td>1.945308</td>\n",
       "      <td>1.483364</td>\n",
       "      <td>1.824849</td>\n",
       "      <td>1.432051</td>\n",
       "      <td>3.382764</td>\n",
       "      <td>1.597174</td>\n",
       "      <td>3.472059</td>\n",
       "      <td>...</td>\n",
       "      <td>5.191409</td>\n",
       "      <td>5.720125</td>\n",
       "      <td>7.151221</td>\n",
       "      <td>8.615500</td>\n",
       "      <td>5.903361</td>\n",
       "      <td>5.913478</td>\n",
       "      <td>0.385597</td>\n",
       "      <td>9.180009</td>\n",
       "      <td>8.607801</td>\n",
       "      <td>8.924363</td>\n",
       "    </tr>\n",
       "    <tr>\n",
       "      <th>28</th>\n",
       "      <td>9.390329</td>\n",
       "      <td>5.953891</td>\n",
       "      <td>4.563298</td>\n",
       "      <td>8.099297</td>\n",
       "      <td>9.270594</td>\n",
       "      <td>6.272061</td>\n",
       "      <td>8.965811</td>\n",
       "      <td>8.882138</td>\n",
       "      <td>8.981129</td>\n",
       "      <td>8.312719</td>\n",
       "      <td>...</td>\n",
       "      <td>7.269689</td>\n",
       "      <td>2.953340</td>\n",
       "      <td>8.583463</td>\n",
       "      <td>5.616002</td>\n",
       "      <td>4.997690</td>\n",
       "      <td>3.432625</td>\n",
       "      <td>0.940505</td>\n",
       "      <td>5.678021</td>\n",
       "      <td>3.148674</td>\n",
       "      <td>4.250082</td>\n",
       "    </tr>\n",
       "    <tr>\n",
       "      <th>26</th>\n",
       "      <td>12.063644</td>\n",
       "      <td>12.566209</td>\n",
       "      <td>10.728579</td>\n",
       "      <td>13.133859</td>\n",
       "      <td>9.806887</td>\n",
       "      <td>9.839808</td>\n",
       "      <td>13.389341</td>\n",
       "      <td>13.310304</td>\n",
       "      <td>11.938865</td>\n",
       "      <td>10.464273</td>\n",
       "      <td>...</td>\n",
       "      <td>14.537551</td>\n",
       "      <td>14.489797</td>\n",
       "      <td>15.071666</td>\n",
       "      <td>11.594457</td>\n",
       "      <td>14.752841</td>\n",
       "      <td>11.362003</td>\n",
       "      <td>2.317044</td>\n",
       "      <td>12.289524</td>\n",
       "      <td>10.208726</td>\n",
       "      <td>8.779506</td>\n",
       "    </tr>\n",
       "    <tr>\n",
       "      <th>40</th>\n",
       "      <td>5.811021</td>\n",
       "      <td>5.771725</td>\n",
       "      <td>4.563298</td>\n",
       "      <td>6.450989</td>\n",
       "      <td>4.804265</td>\n",
       "      <td>4.842350</td>\n",
       "      <td>4.256626</td>\n",
       "      <td>3.870079</td>\n",
       "      <td>7.181373</td>\n",
       "      <td>4.653054</td>\n",
       "      <td>...</td>\n",
       "      <td>3.602861</td>\n",
       "      <td>1.930018</td>\n",
       "      <td>0.529971</td>\n",
       "      <td>1.246530</td>\n",
       "      <td>0.816395</td>\n",
       "      <td>3.616722</td>\n",
       "      <td>1.340277</td>\n",
       "      <td>4.524609</td>\n",
       "      <td>1.281312</td>\n",
       "      <td>5.380584</td>\n",
       "    </tr>\n",
       "    <tr>\n",
       "      <th>...</th>\n",
       "      <td>...</td>\n",
       "      <td>...</td>\n",
       "      <td>...</td>\n",
       "      <td>...</td>\n",
       "      <td>...</td>\n",
       "      <td>...</td>\n",
       "      <td>...</td>\n",
       "      <td>...</td>\n",
       "      <td>...</td>\n",
       "      <td>...</td>\n",
       "      <td>...</td>\n",
       "      <td>...</td>\n",
       "      <td>...</td>\n",
       "      <td>...</td>\n",
       "      <td>...</td>\n",
       "      <td>...</td>\n",
       "      <td>...</td>\n",
       "      <td>...</td>\n",
       "      <td>...</td>\n",
       "      <td>...</td>\n",
       "      <td>...</td>\n",
       "    </tr>\n",
       "    <tr>\n",
       "      <th>7544</th>\n",
       "      <td>8.327877</td>\n",
       "      <td>8.490122</td>\n",
       "      <td>0.000000</td>\n",
       "      <td>8.319150</td>\n",
       "      <td>0.000000</td>\n",
       "      <td>8.059922</td>\n",
       "      <td>8.493727</td>\n",
       "      <td>8.173977</td>\n",
       "      <td>8.758570</td>\n",
       "      <td>8.422929</td>\n",
       "      <td>...</td>\n",
       "      <td>0.000000</td>\n",
       "      <td>0.000000</td>\n",
       "      <td>8.210243</td>\n",
       "      <td>8.077061</td>\n",
       "      <td>0.000000</td>\n",
       "      <td>1.304277</td>\n",
       "      <td>7.655991</td>\n",
       "      <td>8.278706</td>\n",
       "      <td>8.667393</td>\n",
       "      <td>7.696046</td>\n",
       "    </tr>\n",
       "    <tr>\n",
       "      <th>79698</th>\n",
       "      <td>4.358727</td>\n",
       "      <td>2.727463</td>\n",
       "      <td>1.904773</td>\n",
       "      <td>3.219711</td>\n",
       "      <td>2.290218</td>\n",
       "      <td>3.200567</td>\n",
       "      <td>3.409187</td>\n",
       "      <td>2.050885</td>\n",
       "      <td>4.541044</td>\n",
       "      <td>2.413377</td>\n",
       "      <td>...</td>\n",
       "      <td>2.373286</td>\n",
       "      <td>5.750572</td>\n",
       "      <td>0.000000</td>\n",
       "      <td>4.722171</td>\n",
       "      <td>0.326192</td>\n",
       "      <td>1.565353</td>\n",
       "      <td>0.940505</td>\n",
       "      <td>0.911270</td>\n",
       "      <td>2.403759</td>\n",
       "      <td>4.631227</td>\n",
       "    </tr>\n",
       "    <tr>\n",
       "      <th>151126</th>\n",
       "      <td>8.656126</td>\n",
       "      <td>8.692213</td>\n",
       "      <td>8.222945</td>\n",
       "      <td>8.751733</td>\n",
       "      <td>8.851669</td>\n",
       "      <td>8.840492</td>\n",
       "      <td>8.248600</td>\n",
       "      <td>8.215255</td>\n",
       "      <td>8.682375</td>\n",
       "      <td>8.616942</td>\n",
       "      <td>...</td>\n",
       "      <td>2.555325</td>\n",
       "      <td>4.015881</td>\n",
       "      <td>7.308955</td>\n",
       "      <td>8.819945</td>\n",
       "      <td>5.590488</td>\n",
       "      <td>6.004358</td>\n",
       "      <td>4.602059</td>\n",
       "      <td>2.546882</td>\n",
       "      <td>9.497344</td>\n",
       "      <td>8.227909</td>\n",
       "    </tr>\n",
       "    <tr>\n",
       "      <th>163223</th>\n",
       "      <td>6.223614</td>\n",
       "      <td>5.238982</td>\n",
       "      <td>5.183320</td>\n",
       "      <td>5.277181</td>\n",
       "      <td>6.192579</td>\n",
       "      <td>6.558168</td>\n",
       "      <td>5.760556</td>\n",
       "      <td>4.386066</td>\n",
       "      <td>5.745848</td>\n",
       "      <td>4.967634</td>\n",
       "      <td>...</td>\n",
       "      <td>0.762902</td>\n",
       "      <td>0.643487</td>\n",
       "      <td>1.472696</td>\n",
       "      <td>0.000000</td>\n",
       "      <td>1.334625</td>\n",
       "      <td>3.061448</td>\n",
       "      <td>3.825277</td>\n",
       "      <td>0.526369</td>\n",
       "      <td>1.949049</td>\n",
       "      <td>1.341587</td>\n",
       "    </tr>\n",
       "    <tr>\n",
       "      <th>440590</th>\n",
       "      <td>3.988221</td>\n",
       "      <td>6.060581</td>\n",
       "      <td>3.359352</td>\n",
       "      <td>4.197299</td>\n",
       "      <td>3.663800</td>\n",
       "      <td>3.367846</td>\n",
       "      <td>3.894255</td>\n",
       "      <td>7.104022</td>\n",
       "      <td>3.561033</td>\n",
       "      <td>4.303854</td>\n",
       "      <td>...</td>\n",
       "      <td>3.602861</td>\n",
       "      <td>0.000000</td>\n",
       "      <td>5.258655</td>\n",
       "      <td>0.753861</td>\n",
       "      <td>6.496571</td>\n",
       "      <td>3.143720</td>\n",
       "      <td>6.171605</td>\n",
       "      <td>4.036653</td>\n",
       "      <td>5.200277</td>\n",
       "      <td>2.755678</td>\n",
       "    </tr>\n",
       "  </tbody>\n",
       "</table>\n",
       "<p>650 rows × 597 columns</p>\n",
       "</div>"
      ],
      "text/plain": [
       "        TCGA.CJ.5672.11  TCGA.CJ.5678.11  TCGA.B0.5712.11  TCGA.CZ.5458.11  \\\n",
       "652919         4.760210         4.870084         0.000000         3.466040   \n",
       "26154          3.022403         4.385183         4.287295         1.945308   \n",
       "28             9.390329         5.953891         4.563298         8.099297   \n",
       "26            12.063644        12.566209        10.728579        13.133859   \n",
       "40             5.811021         5.771725         4.563298         6.450989   \n",
       "...                 ...              ...              ...              ...   \n",
       "7544           8.327877         8.490122         0.000000         8.319150   \n",
       "79698          4.358727         2.727463         1.904773         3.219711   \n",
       "151126         8.656126         8.692213         8.222945         8.751733   \n",
       "163223         6.223614         5.238982         5.183320         5.277181   \n",
       "440590         3.988221         6.060581         3.359352         4.197299   \n",
       "\n",
       "        TCGA.CW.5580.11  TCGA.CZ.5463.11  TCGA.CZ.5469.11  TCGA.CZ.4864.11  \\\n",
       "652919         5.383131         5.846894         6.691227         5.399701   \n",
       "26154          1.483364         1.824849         1.432051         3.382764   \n",
       "28             9.270594         6.272061         8.965811         8.882138   \n",
       "26             9.806887         9.839808        13.389341        13.310304   \n",
       "40             4.804265         4.842350         4.256626         3.870079   \n",
       "...                 ...              ...              ...              ...   \n",
       "7544           0.000000         8.059922         8.493727         8.173977   \n",
       "79698          2.290218         3.200567         3.409187         2.050885   \n",
       "151126         8.851669         8.840492         8.248600         8.215255   \n",
       "163223         6.192579         6.558168         5.760556         4.386066   \n",
       "440590         3.663800         3.367846         3.894255         7.104022   \n",
       "\n",
       "        TCGA.B8.5549.11  TCGA.B0.5701.11  ...  TCGA.CJ.4638.01  \\\n",
       "652919         5.017102         4.423108  ...         1.284218   \n",
       "26154          1.597174         3.472059  ...         5.191409   \n",
       "28             8.981129         8.312719  ...         7.269689   \n",
       "26            11.938865        10.464273  ...        14.537551   \n",
       "40             7.181373         4.653054  ...         3.602861   \n",
       "...                 ...              ...  ...              ...   \n",
       "7544           8.758570         8.422929  ...         0.000000   \n",
       "79698          4.541044         2.413377  ...         2.373286   \n",
       "151126         8.682375         8.616942  ...         2.555325   \n",
       "163223         5.745848         4.967634  ...         0.762902   \n",
       "440590         3.561033         4.303854  ...         3.602861   \n",
       "\n",
       "        TCGA.CJ.5677.01  TCGA.CJ.4887.01  TCGA.CZ.5987.01  TCGA.B4.5377.01  \\\n",
       "652919         0.000000         2.556405         0.000000         6.600659   \n",
       "26154          5.720125         7.151221         8.615500         5.903361   \n",
       "28             2.953340         8.583463         5.616002         4.997690   \n",
       "26            14.489797        15.071666        11.594457        14.752841   \n",
       "40             1.930018         0.529971         1.246530         0.816395   \n",
       "...                 ...              ...              ...              ...   \n",
       "7544           0.000000         8.210243         8.077061         0.000000   \n",
       "79698          5.750572         0.000000         4.722171         0.326192   \n",
       "151126         4.015881         7.308955         8.819945         5.590488   \n",
       "163223         0.643487         1.472696         0.000000         1.334625   \n",
       "440590         0.000000         5.258655         0.753861         6.496571   \n",
       "\n",
       "        TCGA.B0.4819.01  TCGA.B0.4698.01  TCGA.B0.4712.01  TCGA.B2.5639.01  \\\n",
       "652919         0.000000         4.548665         1.214747         1.653473   \n",
       "26154          5.913478         0.385597         9.180009         8.607801   \n",
       "28             3.432625         0.940505         5.678021         3.148674   \n",
       "26            11.362003         2.317044        12.289524        10.208726   \n",
       "40             3.616722         1.340277         4.524609         1.281312   \n",
       "...                 ...              ...              ...              ...   \n",
       "7544           1.304277         7.655991         8.278706         8.667393   \n",
       "79698          1.565353         0.940505         0.911270         2.403759   \n",
       "151126         6.004358         4.602059         2.546882         9.497344   \n",
       "163223         3.061448         3.825277         0.526369         1.949049   \n",
       "440590         3.143720         6.171605         4.036653         5.200277   \n",
       "\n",
       "        TCGA.CJ.4871.01  \n",
       "652919         4.738768  \n",
       "26154          8.924363  \n",
       "28             4.250082  \n",
       "26             8.779506  \n",
       "40             5.380584  \n",
       "...                 ...  \n",
       "7544           7.696046  \n",
       "79698          4.631227  \n",
       "151126         8.227909  \n",
       "163223         1.341587  \n",
       "440590         2.755678  \n",
       "\n",
       "[650 rows x 597 columns]"
      ]
     },
     "execution_count": 25,
     "metadata": {},
     "output_type": "execute_result"
    }
   ],
   "source": [
    "reduced_df = df.loc[:, selected_cols].T\n",
    "reduced_df"
   ]
  },
  {
   "cell_type": "code",
   "execution_count": 26,
   "id": "sexual-interview",
   "metadata": {},
   "outputs": [],
   "source": [
    "reduced_df.to_csv(\"/home/colombelli/Documents/datasets/acgt/kidney/correlation650.csv\")"
   ]
  },
  {
   "cell_type": "markdown",
   "id": "experimental-caribbean",
   "metadata": {},
   "source": [
    "# Processment of methy and mirna data\n",
    "### Subsample with only intersected patient, log2 normalized values, iqr dimensionality reduction"
   ]
  },
  {
   "cell_type": "code",
   "execution_count": 28,
   "id": "large-columbia",
   "metadata": {},
   "outputs": [],
   "source": [
    "import seaborn as sns\n",
    "import matplotlib.pyplot as plt\n",
    "import numpy as np\n",
    "\n",
    "def boxplot_df(df, include_outliers=True):\n",
    "    x = sns.boxplot(data=df, showfliers = include_outliers)\n",
    "    x.set(xticklabels=[])\n",
    "    x.tick_params(bottom=False)\n",
    "    x.set(xlabel=None)\n",
    "    plt.show()\n",
    "    return\n",
    "\n",
    "def get_n(df, n):\n",
    "    selected = df.sample(frac=1)\n",
    "    try:\n",
    "        return selected.iloc[:n, :]\n",
    "    except:\n",
    "        return selected"
   ]
  },
  {
   "cell_type": "code",
   "execution_count": 58,
   "id": "handmade-combat",
   "metadata": {},
   "outputs": [],
   "source": [
    "base = \"/home/colombelli/Documents/datasets/acgt/kidney/\"\n",
    "df_exp = pd.read_csv(base+\"transposed_exp_log2_staging_match.csv\", index_col=0)\n",
    "patients = df_exp.columns.values"
   ]
  },
  {
   "cell_type": "code",
   "execution_count": 51,
   "id": "addressed-latvia",
   "metadata": {},
   "outputs": [
    {
     "data": {
      "image/png": "[encoded data removed]",
      "text/plain": [
       "<Figure size 432x288 with 1 Axes>"
      ]
     },
     "metadata": {
      "needs_background": "light"
     },
     "output_type": "display_data"
    }
   ],
   "source": [
    "df_met = pd.read_csv(base+\"methy\", sep=' ', index_col=0)\n",
    "boxplot_df(get_n(df_met.T, 50).T)"
   ]
  },
  {
   "cell_type": "code",
   "execution_count": 52,
   "id": "according-shakespeare",
   "metadata": {},
   "outputs": [
    {
     "data": {
      "image/png": "[encoded data removed]",
      "text/plain": [
       "<Figure size 432x288 with 1 Axes>"
      ]
     },
     "metadata": {
      "needs_background": "light"
     },
     "output_type": "display_data"
    }
   ],
   "source": [
    "df_mirna = pd.read_csv(base+\"mirna\", sep=' ', index_col=0)\n",
    "df_mirna = np.log2(df_mirna+1)\n",
    "plotable_df = get_n(df_mirna.T, 50).T\n",
    "boxplot_df(plotable_df)"
   ]
  },
  {
   "cell_type": "code",
   "execution_count": 53,
   "id": "interracial-petersburg",
   "metadata": {},
   "outputs": [
    {
     "data": {
      "image/png": "[encoded data removed]",
      "text/plain": [
       "<Figure size 432x288 with 1 Axes>"
      ]
     },
     "metadata": {
      "needs_background": "light"
     },
     "output_type": "display_data"
    }
   ],
   "source": [
    "boxplot_df(plotable_df, include_outliers=False)"
   ]
  },
  {
   "cell_type": "markdown",
   "id": "stupid-dependence",
   "metadata": {},
   "source": [
    "## Patients subsample"
   ]
  },
  {
   "cell_type": "code",
   "execution_count": 61,
   "id": "japanese-interval",
   "metadata": {},
   "outputs": [
    {
     "data": {
      "text/plain": [
       "201"
      ]
     },
     "execution_count": 61,
     "metadata": {},
     "output_type": "execute_result"
    }
   ],
   "source": [
    "final_patients = set.intersection(set(patients), set(df_met.columns.values), set(df_mirna.columns.values))\n",
    "len(final_patients)"
   ]
  },
  {
   "cell_type": "code",
   "execution_count": 70,
   "id": "fifth-demand",
   "metadata": {},
   "outputs": [],
   "source": [
    "df_exp = df_exp.loc[:, final_patients].T\n",
    "df_met = df_met.loc[:, final_patients].T\n",
    "df_mirna = df_mirna.loc[:, final_patients].T"
   ]
  },
  {
   "cell_type": "markdown",
   "id": "flush-energy",
   "metadata": {},
   "source": [
    "## IQR reduction"
   ]
  },
  {
   "cell_type": "code",
   "execution_count": 73,
   "id": "headed-worry",
   "metadata": {},
   "outputs": [],
   "source": [
    "def get_biggest_k_iqrs(df, k):\n",
    "    \n",
    "    iqrs = []\n",
    "    for col in df.columns:\n",
    "        iqrs.append((col, iqr(df[col])))\n",
    "    \n",
    "    iqrs.sort(reverse=True, key=lambda x: x[1])\n",
    "    return [i[0] for i in iqrs[:k]]"
   ]
  },
  {
   "cell_type": "code",
   "execution_count": 83,
   "id": "smoking-stuff",
   "metadata": {},
   "outputs": [],
   "source": [
    "k=500\n",
    "selected_exp_features = get_biggest_k_iqrs(df_exp, k)\n",
    "\n",
    "k=100\n",
    "selected_met_features = get_biggest_k_iqrs(df_met, k)\n",
    "selected_mirna_features = get_biggest_k_iqrs(df_mirna, k)"
   ]
  },
  {
   "cell_type": "code",
   "execution_count": 85,
   "id": "pressed-refrigerator",
   "metadata": {},
   "outputs": [],
   "source": [
    "df_exp.loc[:, selected_exp_features].to_csv(base+\"exp_top_500_iqr.csv\")\n",
    "df_met.loc[:, selected_met_features].to_csv(base+\"methy_top_100_iqr.csv\")\n",
    "df_mirna.loc[:, selected_mirna_features].to_csv(base+\"mirna_top_100_iqr.csv\")"
   ]
  },
  {
   "cell_type": "code",
   "execution_count": null,
   "id": "spoken-rouge",
   "metadata": {},
   "outputs": [],
   "source": []
  }
 ],
 "metadata": {
  "kernelspec": {
   "display_name": "3.6.13",
   "language": "python",
   "name": "3.6.13"
  },
  "language_info": {
   "codemirror_mode": {
    "name": "ipython",
    "version": 3
   },
   "file_extension": ".py",
   "mimetype": "text/x-python",
   "name": "python",
   "nbconvert_exporter": "python",
   "pygments_lexer": "ipython3",
   "version": "3.6.13"
  }
 },
 "nbformat": 4,
 "nbformat_minor": 5
}
