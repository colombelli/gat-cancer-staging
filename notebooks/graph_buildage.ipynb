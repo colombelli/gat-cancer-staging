{
 "cells": [
  {
   "cell_type": "code",
   "execution_count": 34,
   "id": "d42f92ea-9d02-459d-9b55-fc634b2dac51",
   "metadata": {},
   "outputs": [],
   "source": [
    "import pandas as pd\n",
    "import pingouin as pg\n",
    "import time\n",
    "from scipy import stats\n",
    "from tqdm import tqdm\n",
    "import numpy as np\n",
    "\n",
    "base = \"C:/Users/colombelli/Desktop/TCC/data/TCGA/BRCA/\""
   ]
  },
  {
   "cell_type": "code",
   "execution_count": 39,
   "id": "8d4bc056-e6dd-4ed3-b467-d17ee15924bb",
   "metadata": {},
   "outputs": [],
   "source": [
    "df = pd.read_csv(base+\"BRCA_mRNA.csv\", index_col=0)"
   ]
  },
  {
   "cell_type": "markdown",
   "id": "d96eb546-cb0f-4fe4-8f79-d9d8cc70255c",
   "metadata": {},
   "source": [
    "statspandas.DataFrame\n",
    "'X': Name(s) of first columns.\n",
    "\n",
    "'Y': Name(s) of second columns.\n",
    "\n",
    "'method': Correlation type.\n",
    "\n",
    "'covar': List of specified covariate(s), only when covariates are passed.\n",
    "\n",
    "'alternative': Tail of the test.\n",
    "\n",
    "'n': Sample size (after removal of missing values).\n",
    "\n",
    "'r': Correlation coefficients.\n",
    "\n",
    "'CI95': 95% parametric confidence intervals.\n",
    "\n",
    "'p-unc': Uncorrected p-values.\n",
    "\n",
    "'p-corr': Corrected p-values.\n",
    "\n",
    "'p-adjust': P-values correction method.\n",
    "\n",
    "'BF10': Bayes Factor of the alternative hypothesis (only for Pearson correlation)\n",
    "\n",
    "'power': achieved power of the test (= 1 - type II error)."
   ]
  },
  {
   "cell_type": "markdown",
   "id": "59853830-c7b6-479a-86f1-4869e70a2885",
   "metadata": {},
   "source": [
    "#### Pingouin didn't work, took way too much to calculate what i needed"
   ]
  },
  {
   "cell_type": "code",
   "execution_count": null,
   "id": "45c5a17d-157d-4a31-847f-41bb49974665",
   "metadata": {},
   "outputs": [],
   "source": [
    "start = time.perf_counter()\n",
    "corr_df = pg.pairwise_corr(df.iloc[:10, :], padjust='bonf')\n",
    "end = time.perf_counter()\n",
    "\n",
    "print(\"Time taken: \", end-start)"
   ]
  },
  {
   "cell_type": "code",
   "execution_count": null,
   "id": "57c567cd-77ab-4043-b67c-a2c492a997fc",
   "metadata": {},
   "outputs": [],
   "source": [
    "start = time.perf_counter()\n",
    "corr_df_none = pg.pairwise_corr(df, padjust='none')\n",
    "end = time.perf_counter()\n",
    "\n",
    "print(\"Time taken: \", end-start)"
   ]
  },
  {
   "cell_type": "code",
   "execution_count": null,
   "id": "60f5f0b3-c255-4dbe-b587-cd5d744f8d32",
   "metadata": {},
   "outputs": [],
   "source": [
    "start = time.perf_counter()\n",
    "corr_df_100 = pg.pairwise_corr(df.iloc[0:100, :], padjust='bonf')\n",
    "end = time.perf_counter()\n",
    "\n",
    "print(\"Time taken: \", end-start)"
   ]
  },
  {
   "cell_type": "markdown",
   "id": "5ccbd0b1-0b32-4938-b336-e80884637406",
   "metadata": {},
   "source": [
    "#### Trying to calculate by hand, making an edge list like dataframe"
   ]
  },
  {
   "cell_type": "code",
   "execution_count": 19,
   "id": "6b524145-e82c-4dc5-80c7-3b2a417e2baa",
   "metadata": {},
   "outputs": [
    {
     "name": "stderr",
     "output_type": "stream",
     "text": [
      "100%|████████████████████████████████████████████████████████████████████████████████| 759/759 [00:22<00:00, 34.43it/s]\n"
     ]
    }
   ],
   "source": [
    "dt = df.T\n",
    "\n",
    "col_1 = []\n",
    "col_2 = []\n",
    "col_r = []\n",
    "col_p = []\n",
    "\n",
    "for idx1, row1 in tqdm(dt.iterrows(), total=dt.shape[0]):\n",
    "    for idx2, row2 in dt.loc[idx1:, :].iterrows():\n",
    "        r, p = stats.pearsonr(row1.values, row2.values)\n",
    "        col_1.append(idx1)\n",
    "        col_2.append(idx2)\n",
    "        col_r.append(r)\n",
    "        col_p.append(p)"
   ]
  },
  {
   "cell_type": "code",
   "execution_count": 20,
   "id": "9124a51e-d4cc-44d2-aebb-42748fc99644",
   "metadata": {},
   "outputs": [],
   "source": [
    "corr_df = pd.DataFrame.from_dict({\n",
    "        \"sample1\": col_1,\n",
    "        \"sample2\": col_2,\n",
    "        \"r\": col_r,\n",
    "        \"p\": col_p\n",
    "    })"
   ]
  },
  {
   "cell_type": "code",
   "execution_count": 21,
   "id": "9d5eb9c4-4c50-4c7a-8991-58f3bc151007",
   "metadata": {},
   "outputs": [
    {
     "data": {
      "text/html": [
       "<div>\n",
       "<style scoped>\n",
       "    .dataframe tbody tr th:only-of-type {\n",
       "        vertical-align: middle;\n",
       "    }\n",
       "\n",
       "    .dataframe tbody tr th {\n",
       "        vertical-align: top;\n",
       "    }\n",
       "\n",
       "    .dataframe thead th {\n",
       "        text-align: right;\n",
       "    }\n",
       "</style>\n",
       "<table border=\"1\" class=\"dataframe\">\n",
       "  <thead>\n",
       "    <tr style=\"text-align: right;\">\n",
       "      <th></th>\n",
       "      <th>sample1</th>\n",
       "      <th>sample2</th>\n",
       "      <th>r</th>\n",
       "      <th>p</th>\n",
       "    </tr>\n",
       "  </thead>\n",
       "  <tbody>\n",
       "    <tr>\n",
       "      <th>0</th>\n",
       "      <td>TCGA.3C.AAAU.01</td>\n",
       "      <td>TCGA.3C.AAAU.01</td>\n",
       "      <td>1.000000</td>\n",
       "      <td>0.000000e+00</td>\n",
       "    </tr>\n",
       "    <tr>\n",
       "      <th>1</th>\n",
       "      <td>TCGA.3C.AAAU.01</td>\n",
       "      <td>TCGA.3C.AALI.01</td>\n",
       "      <td>0.011027</td>\n",
       "      <td>6.221119e-01</td>\n",
       "    </tr>\n",
       "    <tr>\n",
       "      <th>2</th>\n",
       "      <td>TCGA.3C.AAAU.01</td>\n",
       "      <td>TCGA.3C.AALJ.01</td>\n",
       "      <td>0.161264</td>\n",
       "      <td>4.018140e-13</td>\n",
       "    </tr>\n",
       "    <tr>\n",
       "      <th>3</th>\n",
       "      <td>TCGA.3C.AAAU.01</td>\n",
       "      <td>TCGA.3C.AALK.01</td>\n",
       "      <td>-0.167896</td>\n",
       "      <td>4.107702e-14</td>\n",
       "    </tr>\n",
       "    <tr>\n",
       "      <th>4</th>\n",
       "      <td>TCGA.3C.AAAU.01</td>\n",
       "      <td>TCGA.5L.AAT0.01</td>\n",
       "      <td>-0.124918</td>\n",
       "      <td>2.082677e-08</td>\n",
       "    </tr>\n",
       "    <tr>\n",
       "      <th>...</th>\n",
       "      <td>...</td>\n",
       "      <td>...</td>\n",
       "      <td>...</td>\n",
       "      <td>...</td>\n",
       "    </tr>\n",
       "    <tr>\n",
       "      <th>288415</th>\n",
       "      <td>TCGA.XX.A89A.01</td>\n",
       "      <td>TCGA.Z7.A8R5.01</td>\n",
       "      <td>0.141578</td>\n",
       "      <td>2.021889e-10</td>\n",
       "    </tr>\n",
       "    <tr>\n",
       "      <th>288416</th>\n",
       "      <td>TCGA.XX.A89A.01</td>\n",
       "      <td>TCGA.Z7.A8R6.01</td>\n",
       "      <td>-0.225851</td>\n",
       "      <td>1.509051e-24</td>\n",
       "    </tr>\n",
       "    <tr>\n",
       "      <th>288417</th>\n",
       "      <td>TCGA.Z7.A8R5.01</td>\n",
       "      <td>TCGA.Z7.A8R5.01</td>\n",
       "      <td>1.000000</td>\n",
       "      <td>0.000000e+00</td>\n",
       "    </tr>\n",
       "    <tr>\n",
       "      <th>288418</th>\n",
       "      <td>TCGA.Z7.A8R5.01</td>\n",
       "      <td>TCGA.Z7.A8R6.01</td>\n",
       "      <td>-0.284133</td>\n",
       "      <td>1.881507e-38</td>\n",
       "    </tr>\n",
       "    <tr>\n",
       "      <th>288419</th>\n",
       "      <td>TCGA.Z7.A8R6.01</td>\n",
       "      <td>TCGA.Z7.A8R6.01</td>\n",
       "      <td>1.000000</td>\n",
       "      <td>0.000000e+00</td>\n",
       "    </tr>\n",
       "  </tbody>\n",
       "</table>\n",
       "<p>288420 rows × 4 columns</p>\n",
       "</div>"
      ],
      "text/plain": [
       "                sample1          sample2         r             p\n",
       "0       TCGA.3C.AAAU.01  TCGA.3C.AAAU.01  1.000000  0.000000e+00\n",
       "1       TCGA.3C.AAAU.01  TCGA.3C.AALI.01  0.011027  6.221119e-01\n",
       "2       TCGA.3C.AAAU.01  TCGA.3C.AALJ.01  0.161264  4.018140e-13\n",
       "3       TCGA.3C.AAAU.01  TCGA.3C.AALK.01 -0.167896  4.107702e-14\n",
       "4       TCGA.3C.AAAU.01  TCGA.5L.AAT0.01 -0.124918  2.082677e-08\n",
       "...                 ...              ...       ...           ...\n",
       "288415  TCGA.XX.A89A.01  TCGA.Z7.A8R5.01  0.141578  2.021889e-10\n",
       "288416  TCGA.XX.A89A.01  TCGA.Z7.A8R6.01 -0.225851  1.509051e-24\n",
       "288417  TCGA.Z7.A8R5.01  TCGA.Z7.A8R5.01  1.000000  0.000000e+00\n",
       "288418  TCGA.Z7.A8R5.01  TCGA.Z7.A8R6.01 -0.284133  1.881507e-38\n",
       "288419  TCGA.Z7.A8R6.01  TCGA.Z7.A8R6.01  1.000000  0.000000e+00\n",
       "\n",
       "[288420 rows x 4 columns]"
      ]
     },
     "execution_count": 21,
     "metadata": {},
     "output_type": "execute_result"
    }
   ],
   "source": [
    "corr_df"
   ]
  },
  {
   "cell_type": "code",
   "execution_count": 31,
   "id": "ca54ede5-8507-47d0-803b-2c47bb2ebc9b",
   "metadata": {},
   "outputs": [],
   "source": [
    "clin = pd.read_csv(base+\"BRCA_clin.txt\", sep=\"\\t\", index_col=0).T.iloc[:, [6]]"
   ]
  },
  {
   "cell_type": "code",
   "execution_count": 33,
   "id": "d14fdcf4-eacc-419f-9484-60cf4aab9813",
   "metadata": {},
   "outputs": [
    {
     "data": {
      "text/plain": [
       "pathologic_stage\n",
       "stage iia           358\n",
       "stage iib           258\n",
       "stage iiia          156\n",
       "stage i              90\n",
       "stage ia             86\n",
       "stage iiic           65\n",
       "stage iiib           27\n",
       "stage iv             20\n",
       "stage x              14\n",
       "stage ib              7\n",
       "stage ii              6\n",
       "stage iii             2\n",
       "dtype: int64"
      ]
     },
     "execution_count": 33,
     "metadata": {},
     "output_type": "execute_result"
    }
   ],
   "source": [
    "clin.value_counts()"
   ]
  },
  {
   "cell_type": "code",
   "execution_count": 111,
   "id": "559dc23b-9e19-4960-8815-ed5085edd40e",
   "metadata": {},
   "outputs": [],
   "source": [
    "def get_correlation_dataframe(df):\n",
    "    col_1 = []\n",
    "    col_2 = []\n",
    "    col_r = []\n",
    "    col_p = []\n",
    "\n",
    "    for idx1, row1 in tqdm(df.iterrows(), total=df.shape[0]):\n",
    "        for idx2, row2 in df.loc[idx1:, :].iterrows():\n",
    "            r, p = stats.pearsonr(row1.values, row2.values)\n",
    "            col_1.append(idx1)\n",
    "            col_2.append(idx2)\n",
    "            col_r.append(r)\n",
    "            col_p.append(p)\n",
    "            \n",
    "    corr_df = pd.DataFrame.from_dict({\n",
    "        \"sample1\": col_1,\n",
    "        \"sample2\": col_2,\n",
    "        \"r\": col_r,\n",
    "        \"p\": col_p\n",
    "    })\n",
    "    return corr_df\n",
    "\n",
    "\n",
    "def build_edge_list(df, r_filter, p_filter):\n",
    "    edges_df = df.loc[(df.r >= r_filter) & (df['p'] <= p_filter)]\n",
    "    return edges_df.rename(columns={'sample1':'source', 'sample2':'target'})\n",
    "\n",
    "\n",
    "def get_stage_class_from_patient(patient_idx, clin_df):\n",
    "    stage_str = clin_df.loc[patient_idx, \"pathologic_stage\"]\n",
    "    \n",
    "    if stage_str in [\"stage i\"+suffix for suffix in ['', 'a','b','c']]:\n",
    "        return \"stage1\"\n",
    "    elif stage_str in [\"stage ii\"+suffix for suffix in ['', 'a','b','c']]:\n",
    "        return \"stage2\"\n",
    "    elif stage_str in [\"stage iii\"+suffix for suffix in ['', 'a','b','c']]:\n",
    "        return \"stage3\"\n",
    "    elif stage_str in [\"stage iv\"+suffix for suffix in ['', 'a','b','c']]:\n",
    "        return \"stage4\"\n",
    "    else:\n",
    "        return np.nan\n",
    "\n",
    "\n",
    "def build_class_df(sample_idxs):\n",
    "    \n",
    "    clin_df = pd.read_csv(base+\"BRCA_clin.txt\", sep=\"\\t\", index_col=0).T.iloc[:, [6]]\n",
    "    \n",
    "    class_col = []\n",
    "    for idx in sample_idxs:\n",
    "        patient_idx = '-'.join(idx.split('.')[:-1]).lower()\n",
    "        sample_type = int(idx.split('.')[-1])\n",
    "        \n",
    "        if sample_type <= 9:   # Tumor sample\n",
    "            class_col.append(get_stage_class_from_patient(patient_idx, clin_df))\n",
    "        elif sample_type <= 19:   # Normal sample\n",
    "            class_col.append('normal')\n",
    "        elif sample_type <= 29:   # Control sample\n",
    "            print(f\"Warning! Found control sample {idx}, Skipping...\")\n",
    "            continue\n",
    "        else:\n",
    "            print(f\"Warning! Found unexpected sample type: {idx}. Skipping...\")\n",
    "                  \n",
    "    return pd.DataFrame.from_dict({\n",
    "            \"id\": sample_idxs,\n",
    "            \"class\": class_col\n",
    "        }).set_index(\"id\")\n",
    "\n",
    "\n",
    "def get_consistency_index(corr_df, class_df):\n",
    "    correct_connections = 0\n",
    "    for index, row in corr_df.iterrows():\n",
    "        src_class = class_df.loc[row[0], \"class\"]\n",
    "        trg_class = class_df.loc[row[1], \"class\"]\n",
    "        \n",
    "        if src_class == trg_class:\n",
    "            correct_connections += 1\n",
    "    return correct_connections/len(corr_df)\n",
    "\n",
    "\n",
    "def generate_csvs(edges_df, class_df, max_each_feature=100):\n",
    "    edges_df.to_csv(base+\"edges.csv\", index=False)\n",
    "    class_df.to_csv(base+\"classes.csv\", index=True)\n",
    "    \n",
    "    gene = pd.read_csv(base+\"BRCA_mRNA.csv\", index_col=0).iloc[:max_each_feature, :]\n",
    "    mirna = pd.read_csv(base+\"BRCA_miRNA.csv\", index_col=0).iloc[:max_each_feature, :]\n",
    "    meth = pd.read_csv(base+\"BRCA_Methy.csv\", index_col=0).iloc[:max_each_feature, :] \n",
    "    cnv = pd.read_csv(base+\"BRCA_CNV.csv\", index_col=0).iloc[:max_each_feature, :]\n",
    "    features_df = pd.concat([gene,mirna,meth,cnv]).T\n",
    "    features_df.loc[class_df.index, :].to_csv(base+\"features.csv\", index=True)\n",
    "    return"
   ]
  },
  {
   "cell_type": "markdown",
   "id": "3a5e5dad-5d8a-42fc-8e25-8b6e8fd704a4",
   "metadata": {},
   "source": [
    "#### Complete pipeline"
   ]
  },
  {
   "cell_type": "code",
   "execution_count": 73,
   "id": "0799d24f-38da-4a29-9d6f-d30412566be3",
   "metadata": {},
   "outputs": [
    {
     "name": "stderr",
     "output_type": "stream",
     "text": [
      "100%|████████████████████████████████████████████████████████████████████████████████| 750/750 [00:21<00:00, 34.42it/s]\n"
     ]
    }
   ],
   "source": [
    "base = \"C:/Users/colombelli/Desktop/TCC/data/TCGA/BRCA/\"\n",
    "\n",
    "df = pd.read_csv(base+\"BRCA_mRNA.csv\", index_col=0).T\n",
    "class_df = build_class_df(list(df.index)).dropna()\n",
    "df = df.loc[class_df.index, :]\n",
    "corr_df = get_correlation_dataframe(df) "
   ]
  },
  {
   "cell_type": "code",
   "execution_count": 91,
   "id": "1969f6da-baef-4dd0-8f7d-5e3de9f89ffe",
   "metadata": {},
   "outputs": [
    {
     "data": {
      "text/plain": [
       "0.8167730173199635"
      ]
     },
     "execution_count": 91,
     "metadata": {},
     "output_type": "execute_result"
    }
   ],
   "source": [
    "get_consistency_index(build_edge_list(corr_df, 0.6, 0.001), class_df)"
   ]
  },
  {
   "cell_type": "code",
   "execution_count": 105,
   "id": "a58c9d80-eecb-4d02-830b-a3dd5ac79b17",
   "metadata": {},
   "outputs": [],
   "source": [
    "generate_csvs(build_edge_list(corr_df, 0.6, 0.001), class_df)"
   ]
  },
  {
   "cell_type": "markdown",
   "id": "38b13c41-9fce-4960-8046-8143d8563e8f",
   "metadata": {},
   "source": [
    "#### Calculate alpha weights for focal loss"
   ]
  },
  {
   "cell_type": "code",
   "execution_count": 109,
   "id": "2cb2b147-f956-4285-86b2-d7a9a7abe6c5",
   "metadata": {},
   "outputs": [
    {
     "data": {
      "text/plain": [
       "class \n",
       "stage2    425\n",
       "stage3    191\n",
       "stage1    123\n",
       "stage4     11\n",
       "dtype: int64"
      ]
     },
     "execution_count": 109,
     "metadata": {},
     "output_type": "execute_result"
    }
   ],
   "source": [
    "class_df.value_counts()"
   ]
  },
  {
   "cell_type": "code",
   "execution_count": 110,
   "id": "f2985d3c-a1a9-44d3-860c-114c44c7cece",
   "metadata": {},
   "outputs": [
    {
     "name": "stdout",
     "output_type": "stream",
     "text": [
      "0.4411764705882353\n",
      "0.981675392670157\n",
      "1.524390243902439\n",
      "17.045454545454547\n"
     ]
    }
   ],
   "source": [
    "n_samples = len(class_df)\n",
    "n_classes = 4\n",
    "for count in class_df.value_counts():\n",
    "    print(n_samples / (n_classes * count))"
   ]
  },
  {
   "cell_type": "code",
   "execution_count": null,
   "id": "69fff4cc-6a30-4c49-b457-be9422803375",
   "metadata": {},
   "outputs": [],
   "source": []
  }
 ],
 "metadata": {
  "kernelspec": {
   "display_name": "Python 3",
   "language": "python",
   "name": "python3"
  },
  "language_info": {
   "codemirror_mode": {
    "name": "ipython",
    "version": 3
   },
   "file_extension": ".py",
   "mimetype": "text/x-python",
   "name": "python",
   "nbconvert_exporter": "python",
   "pygments_lexer": "ipython3",
   "version": "3.6.13"
  }
 },
 "nbformat": 4,
 "nbformat_minor": 5
}
