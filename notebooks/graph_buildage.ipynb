{
 "cells": [
  {
   "cell_type": "code",
   "execution_count": 84,
   "id": "d42f92ea-9d02-459d-9b55-fc634b2dac51",
   "metadata": {},
   "outputs": [],
   "source": [
    "import pandas as pd\n",
    "import pingouin as pg\n",
    "import time\n",
    "from scipy import stats\n",
    "from tqdm import tqdm\n",
    "import numpy as np\n",
    "from pathlib import Path\n",
    "import snf\n",
    "from sklearn.cluster import spectral_clustering\n",
    "from sklearn.metrics import v_measure_score\n",
    "import networkx as nx"
   ]
  },
  {
   "cell_type": "code",
   "execution_count": 39,
   "id": "8d4bc056-e6dd-4ed3-b467-d17ee15924bb",
   "metadata": {},
   "outputs": [],
   "source": [
    "base = \"C:/Users/colombelli/Desktop/TCC/data/TCGA/BRCA/\"\n",
    "df = pd.read_csv(base+\"BRCA_mRNA.csv\", index_col=0)"
   ]
  },
  {
   "cell_type": "markdown",
   "id": "d96eb546-cb0f-4fe4-8f79-d9d8cc70255c",
   "metadata": {},
   "source": [
    "statspandas.DataFrame\n",
    "'X': Name(s) of first columns.\n",
    "\n",
    "'Y': Name(s) of second columns.\n",
    "\n",
    "'method': Correlation type.\n",
    "\n",
    "'covar': List of specified covariate(s), only when covariates are passed.\n",
    "\n",
    "'alternative': Tail of the test.\n",
    "\n",
    "'n': Sample size (after removal of missing values).\n",
    "\n",
    "'r': Correlation coefficients.\n",
    "\n",
    "'CI95': 95% parametric confidence intervals.\n",
    "\n",
    "'p-unc': Uncorrected p-values.\n",
    "\n",
    "'p-corr': Corrected p-values.\n",
    "\n",
    "'p-adjust': P-values correction method.\n",
    "\n",
    "'BF10': Bayes Factor of the alternative hypothesis (only for Pearson correlation)\n",
    "\n",
    "'power': achieved power of the test (= 1 - type II error)."
   ]
  },
  {
   "cell_type": "markdown",
   "id": "59853830-c7b6-479a-86f1-4869e70a2885",
   "metadata": {},
   "source": [
    "#### Pingouin didn't work, took way too much to calculate what i needed"
   ]
  },
  {
   "cell_type": "code",
   "execution_count": null,
   "id": "45c5a17d-157d-4a31-847f-41bb49974665",
   "metadata": {},
   "outputs": [],
   "source": [
    "start = time.perf_counter()\n",
    "corr_df = pg.pairwise_corr(df.iloc[:10, :], padjust='bonf')\n",
    "end = time.perf_counter()\n",
    "\n",
    "print(\"Time taken: \", end-start)"
   ]
  },
  {
   "cell_type": "code",
   "execution_count": null,
   "id": "57c567cd-77ab-4043-b67c-a2c492a997fc",
   "metadata": {},
   "outputs": [],
   "source": [
    "start = time.perf_counter()\n",
    "corr_df_none = pg.pairwise_corr(df, padjust='none')\n",
    "end = time.perf_counter()\n",
    "\n",
    "print(\"Time taken: \", end-start)"
   ]
  },
  {
   "cell_type": "code",
   "execution_count": null,
   "id": "60f5f0b3-c255-4dbe-b587-cd5d744f8d32",
   "metadata": {},
   "outputs": [],
   "source": [
    "start = time.perf_counter()\n",
    "corr_df_100 = pg.pairwise_corr(df.iloc[0:100, :], padjust='bonf')\n",
    "end = time.perf_counter()\n",
    "\n",
    "print(\"Time taken: \", end-start)"
   ]
  },
  {
   "cell_type": "markdown",
   "id": "5ccbd0b1-0b32-4938-b336-e80884637406",
   "metadata": {},
   "source": [
    "#### Trying to calculate by hand, making an edge list like dataframe"
   ]
  },
  {
   "cell_type": "code",
   "execution_count": 19,
   "id": "6b524145-e82c-4dc5-80c7-3b2a417e2baa",
   "metadata": {},
   "outputs": [
    {
     "name": "stderr",
     "output_type": "stream",
     "text": [
      "100%|████████████████████████████████████████████████████████████████████████████████| 759/759 [00:22<00:00, 34.43it/s]\n"
     ]
    }
   ],
   "source": [
    "dt = df.T\n",
    "\n",
    "col_1 = []\n",
    "col_2 = []\n",
    "col_r = []\n",
    "col_p = []\n",
    "\n",
    "for idx1, row1 in tqdm(dt.iterrows(), total=dt.shape[0]):\n",
    "    for idx2, row2 in dt.loc[idx1:, :].iterrows():\n",
    "        r, p = stats.pearsonr(row1.values, row2.values)\n",
    "        col_1.append(idx1)\n",
    "        col_2.append(idx2)\n",
    "        col_r.append(r)\n",
    "        col_p.append(p)"
   ]
  },
  {
   "cell_type": "code",
   "execution_count": 20,
   "id": "9124a51e-d4cc-44d2-aebb-42748fc99644",
   "metadata": {},
   "outputs": [],
   "source": [
    "corr_df = pd.DataFrame.from_dict({\n",
    "        \"sample1\": col_1,\n",
    "        \"sample2\": col_2,\n",
    "        \"r\": col_r,\n",
    "        \"p\": col_p\n",
    "    })"
   ]
  },
  {
   "cell_type": "code",
   "execution_count": 21,
   "id": "9d5eb9c4-4c50-4c7a-8991-58f3bc151007",
   "metadata": {},
   "outputs": [
    {
     "data": {
      "text/html": [
       "<div>\n",
       "<style scoped>\n",
       "    .dataframe tbody tr th:only-of-type {\n",
       "        vertical-align: middle;\n",
       "    }\n",
       "\n",
       "    .dataframe tbody tr th {\n",
       "        vertical-align: top;\n",
       "    }\n",
       "\n",
       "    .dataframe thead th {\n",
       "        text-align: right;\n",
       "    }\n",
       "</style>\n",
       "<table border=\"1\" class=\"dataframe\">\n",
       "  <thead>\n",
       "    <tr style=\"text-align: right;\">\n",
       "      <th></th>\n",
       "      <th>sample1</th>\n",
       "      <th>sample2</th>\n",
       "      <th>r</th>\n",
       "      <th>p</th>\n",
       "    </tr>\n",
       "  </thead>\n",
       "  <tbody>\n",
       "    <tr>\n",
       "      <th>0</th>\n",
       "      <td>TCGA.3C.AAAU.01</td>\n",
       "      <td>TCGA.3C.AAAU.01</td>\n",
       "      <td>1.000000</td>\n",
       "      <td>0.000000e+00</td>\n",
       "    </tr>\n",
       "    <tr>\n",
       "      <th>1</th>\n",
       "      <td>TCGA.3C.AAAU.01</td>\n",
       "      <td>TCGA.3C.AALI.01</td>\n",
       "      <td>0.011027</td>\n",
       "      <td>6.221119e-01</td>\n",
       "    </tr>\n",
       "    <tr>\n",
       "      <th>2</th>\n",
       "      <td>TCGA.3C.AAAU.01</td>\n",
       "      <td>TCGA.3C.AALJ.01</td>\n",
       "      <td>0.161264</td>\n",
       "      <td>4.018140e-13</td>\n",
       "    </tr>\n",
       "    <tr>\n",
       "      <th>3</th>\n",
       "      <td>TCGA.3C.AAAU.01</td>\n",
       "      <td>TCGA.3C.AALK.01</td>\n",
       "      <td>-0.167896</td>\n",
       "      <td>4.107702e-14</td>\n",
       "    </tr>\n",
       "    <tr>\n",
       "      <th>4</th>\n",
       "      <td>TCGA.3C.AAAU.01</td>\n",
       "      <td>TCGA.5L.AAT0.01</td>\n",
       "      <td>-0.124918</td>\n",
       "      <td>2.082677e-08</td>\n",
       "    </tr>\n",
       "    <tr>\n",
       "      <th>...</th>\n",
       "      <td>...</td>\n",
       "      <td>...</td>\n",
       "      <td>...</td>\n",
       "      <td>...</td>\n",
       "    </tr>\n",
       "    <tr>\n",
       "      <th>288415</th>\n",
       "      <td>TCGA.XX.A89A.01</td>\n",
       "      <td>TCGA.Z7.A8R5.01</td>\n",
       "      <td>0.141578</td>\n",
       "      <td>2.021889e-10</td>\n",
       "    </tr>\n",
       "    <tr>\n",
       "      <th>288416</th>\n",
       "      <td>TCGA.XX.A89A.01</td>\n",
       "      <td>TCGA.Z7.A8R6.01</td>\n",
       "      <td>-0.225851</td>\n",
       "      <td>1.509051e-24</td>\n",
       "    </tr>\n",
       "    <tr>\n",
       "      <th>288417</th>\n",
       "      <td>TCGA.Z7.A8R5.01</td>\n",
       "      <td>TCGA.Z7.A8R5.01</td>\n",
       "      <td>1.000000</td>\n",
       "      <td>0.000000e+00</td>\n",
       "    </tr>\n",
       "    <tr>\n",
       "      <th>288418</th>\n",
       "      <td>TCGA.Z7.A8R5.01</td>\n",
       "      <td>TCGA.Z7.A8R6.01</td>\n",
       "      <td>-0.284133</td>\n",
       "      <td>1.881507e-38</td>\n",
       "    </tr>\n",
       "    <tr>\n",
       "      <th>288419</th>\n",
       "      <td>TCGA.Z7.A8R6.01</td>\n",
       "      <td>TCGA.Z7.A8R6.01</td>\n",
       "      <td>1.000000</td>\n",
       "      <td>0.000000e+00</td>\n",
       "    </tr>\n",
       "  </tbody>\n",
       "</table>\n",
       "<p>288420 rows × 4 columns</p>\n",
       "</div>"
      ],
      "text/plain": [
       "                sample1          sample2         r             p\n",
       "0       TCGA.3C.AAAU.01  TCGA.3C.AAAU.01  1.000000  0.000000e+00\n",
       "1       TCGA.3C.AAAU.01  TCGA.3C.AALI.01  0.011027  6.221119e-01\n",
       "2       TCGA.3C.AAAU.01  TCGA.3C.AALJ.01  0.161264  4.018140e-13\n",
       "3       TCGA.3C.AAAU.01  TCGA.3C.AALK.01 -0.167896  4.107702e-14\n",
       "4       TCGA.3C.AAAU.01  TCGA.5L.AAT0.01 -0.124918  2.082677e-08\n",
       "...                 ...              ...       ...           ...\n",
       "288415  TCGA.XX.A89A.01  TCGA.Z7.A8R5.01  0.141578  2.021889e-10\n",
       "288416  TCGA.XX.A89A.01  TCGA.Z7.A8R6.01 -0.225851  1.509051e-24\n",
       "288417  TCGA.Z7.A8R5.01  TCGA.Z7.A8R5.01  1.000000  0.000000e+00\n",
       "288418  TCGA.Z7.A8R5.01  TCGA.Z7.A8R6.01 -0.284133  1.881507e-38\n",
       "288419  TCGA.Z7.A8R6.01  TCGA.Z7.A8R6.01  1.000000  0.000000e+00\n",
       "\n",
       "[288420 rows x 4 columns]"
      ]
     },
     "execution_count": 21,
     "metadata": {},
     "output_type": "execute_result"
    }
   ],
   "source": [
    "corr_df"
   ]
  },
  {
   "cell_type": "code",
   "execution_count": 31,
   "id": "ca54ede5-8507-47d0-803b-2c47bb2ebc9b",
   "metadata": {},
   "outputs": [],
   "source": [
    "clin = pd.read_csv(base+\"BRCA_clin.txt\", sep=\"\\t\", index_col=0).T.iloc[:, [6]]"
   ]
  },
  {
   "cell_type": "code",
   "execution_count": 33,
   "id": "d14fdcf4-eacc-419f-9484-60cf4aab9813",
   "metadata": {},
   "outputs": [
    {
     "data": {
      "text/plain": [
       "pathologic_stage\n",
       "stage iia           358\n",
       "stage iib           258\n",
       "stage iiia          156\n",
       "stage i              90\n",
       "stage ia             86\n",
       "stage iiic           65\n",
       "stage iiib           27\n",
       "stage iv             20\n",
       "stage x              14\n",
       "stage ib              7\n",
       "stage ii              6\n",
       "stage iii             2\n",
       "dtype: int64"
      ]
     },
     "execution_count": 33,
     "metadata": {},
     "output_type": "execute_result"
    }
   ],
   "source": [
    "clin.value_counts()"
   ]
  },
  {
   "cell_type": "code",
   "execution_count": 105,
   "id": "559dc23b-9e19-4960-8815-ed5085edd40e",
   "metadata": {},
   "outputs": [],
   "source": [
    "def get_correlation_dataframe(df):\n",
    "    col_1 = []\n",
    "    col_2 = []\n",
    "    col_r = []\n",
    "    col_p = []\n",
    "    \n",
    "    for idx1, row1 in tqdm(df.iterrows(), total=df.shape[0]):\n",
    "        for idx2, row2 in df.loc[idx1:, :].iterrows():\n",
    "            r, p = stats.pearsonr(row1.values, row2.values)\n",
    "            col_1.append(idx1)\n",
    "            col_2.append(idx2)\n",
    "            col_r.append(r)\n",
    "            col_p.append(p)\n",
    "            \n",
    "    corr_df = pd.DataFrame.from_dict({\n",
    "        \"sample1\": col_1,\n",
    "        \"sample2\": col_2,\n",
    "        \"r\": col_r,\n",
    "        \"p\": col_p\n",
    "    })\n",
    "    return corr_df\n",
    "\n",
    "\n",
    "def merge_correlation_dataframes(dfs):\n",
    "    \n",
    "    greatest_r = np.argmax(np.array([df.r for df in dfs]), axis=0)\n",
    "    to_concat = [df.loc[greatest_r == i] for i, df in enumerate(dfs)]\n",
    "    return pd.concat(to_concat).sort_index()\n",
    "\n",
    "\n",
    "def build_edge_list(df, r_filter, p_filter):\n",
    "    edges_df = df.loc[(df.r >= r_filter) & (df['p'] <= p_filter)]\n",
    "    return edges_df.rename(columns={'sample1':'source', 'sample2':'target'})\n",
    "\n",
    "def filter_relevant_connections(df, threshold):\n",
    "    return df.loc[(df.weight >= threshold)]\n",
    "\n",
    "\n",
    "def get_stage_class_from_patient(patient_idx, clin_df, agglutinate_stages=False):\n",
    "    stage_str = clin_df.loc[patient_idx, \"pathologic_stage\"]\n",
    "    \n",
    "    if stage_str in [\"stage i\"+suffix for suffix in ['', 'a','b','c']]:\n",
    "        return \"stage1\"\n",
    "    elif stage_str in [\"stage ii\"+suffix for suffix in ['', 'a','b','c']]:\n",
    "        if agglutinate_stages:\n",
    "            return \"stage23\"\n",
    "        else:\n",
    "            return \"stage2\"\n",
    "    elif stage_str in [\"stage iii\"+suffix for suffix in ['', 'a','b','c']]:\n",
    "        if agglutinate_stages:\n",
    "            return \"stage23\"\n",
    "        else:\n",
    "            return \"stage3\"\n",
    "    elif stage_str in [\"stage iv\"+suffix for suffix in ['', 'a','b','c']]:\n",
    "        return \"stage4\"\n",
    "    else:\n",
    "        return np.nan\n",
    "\n",
    "\n",
    "def build_class_df(sample_idxs, agglutinate_stages=False):\n",
    "    \n",
    "    clin_df = pd.read_csv(f\"{base}{cancer}_clin.txt\", sep=\"\\t\", index_col=0).T.iloc[:, [6]]\n",
    "    \n",
    "    class_col = []\n",
    "    for idx in sample_idxs:\n",
    "        patient_idx = '-'.join(idx.split('.')[:-1]).lower()\n",
    "        sample_type = int(idx.split('.')[-1])\n",
    "        \n",
    "        if sample_type <= 9:   # Tumor sample\n",
    "            class_col.append(get_stage_class_from_patient(patient_idx, clin_df, agglutinate_stages))\n",
    "        elif sample_type <= 19:   # Normal sample\n",
    "            class_col.append('normal')\n",
    "        elif sample_type <= 29:   # Control sample\n",
    "            print(f\"Warning! Found control sample {idx}, Skipping...\")\n",
    "            continue\n",
    "        else:\n",
    "            print(f\"Warning! Found unexpected sample type: {idx}. Skipping...\")\n",
    "                  \n",
    "    return pd.DataFrame.from_dict({\n",
    "            \"id\": sample_idxs,\n",
    "            \"class\": class_col\n",
    "        }).set_index(\"id\")\n",
    "\n",
    "\n",
    "def get_consistency_index(corr_df, class_df):\n",
    "    correct_connections = 0\n",
    "    for index, row in corr_df.iterrows():\n",
    "        src_class = class_df.loc[row[0], \"class\"]\n",
    "        trg_class = class_df.loc[row[1], \"class\"]\n",
    "        \n",
    "        if src_class == trg_class:\n",
    "            correct_connections += 1\n",
    "    return correct_connections/len(corr_df)\n",
    "\n",
    "\n",
    "def generate_csvs(edges_df, class_df, max_each_feature=100, multi_omics=True):\n",
    "    \n",
    "    Path(save_dir).mkdir(parents=True, exist_ok=True)\n",
    "    \n",
    "    edges_df.to_csv(save_dir+\"edges.csv\", index=False)\n",
    "    class_df.to_csv(save_dir+\"classes.csv\", index=True)\n",
    "    \n",
    "    gene = pd.read_csv(f\"{base}{cancer}_mRNA.csv\", index_col=0).iloc[:max_each_feature, :]\n",
    "    if multi_omics:\n",
    "        mirna = pd.read_csv(f\"{base}{cancer}_miRNA.csv\", index_col=0).iloc[:max_each_feature, :]\n",
    "        meth = pd.read_csv(f\"{base}{cancer}_Methy.csv\", index_col=0).iloc[:max_each_feature, :] \n",
    "        #cnv = pd.read_csv(f\"{base}{cancer}_CNV.csv\", index_col=0).iloc[:max_each_feature, :]\n",
    "        #features_df = pd.concat([gene,mirna,meth,cnv]).T\n",
    "        features_df = pd.concat([gene,mirna,meth]).T\n",
    "    else:\n",
    "        features_df = gene.T\n",
    "    \n",
    "    features_df.loc[class_df.index, :].to_csv(save_dir+\"features.csv\", index=True)\n",
    "    return\n",
    "\n",
    "\n",
    "def get_snf_network(dfs_values_matrices, class_df):\n",
    "    affinity_networks = snf.make_affinity(dfs_values_matrices)\n",
    "    fused_network = snf.snf(affinity_networks)\n",
    "    np.fill_diagonal(fused_network, 1)\n",
    "    G = nx.from_pandas_adjacency(pd.DataFrame(data=fused_network, index=class_df.index.values, columns=class_df.index.values), create_using=nx.Graph())\n",
    "    return nx.to_pandas_edgelist(G)"
   ]
  },
  {
   "cell_type": "markdown",
   "id": "21f77e35-a243-4203-b251-831fa7818fdd",
   "metadata": {},
   "source": [
    "### Experimentation with SNF"
   ]
  },
  {
   "cell_type": "code",
   "execution_count": 102,
   "id": "7dfc44c4-1dbe-4ee1-b119-ee3e5672cd18",
   "metadata": {},
   "outputs": [],
   "source": [
    "cancer = \"KIRC\"\n",
    "base = f\"C:/Users/colombelli/Desktop/TCC/experiments/{cancer}/\"\n",
    "\n",
    "dfs_values = []\n",
    "\n",
    "df1 = pd.read_csv(f\"{base}{cancer}_mRNA.csv\", index_col=0).T\n",
    "class_df = build_class_df(list(df1.index), agglutinate_stages=False).dropna()\n",
    "dfs_values.append(df1.loc[class_df.index, :].values)\n",
    "\n",
    "df2 = pd.read_csv(f\"{base}{cancer}_miRNA.csv\", index_col=0).T\n",
    "dfs_values.append(df2.loc[class_df.index, :].values)\n",
    "\n",
    "df3 = pd.read_csv(f\"{base}{cancer}_Methy.csv\", index_col=0).T\n",
    "dfs_values.append(df3.loc[class_df.index, :].values)"
   ]
  },
  {
   "cell_type": "code",
   "execution_count": 103,
   "id": "bad078ec-7e5f-476a-908b-c513d554478a",
   "metadata": {},
   "outputs": [],
   "source": [
    "affinity_networks = snf.make_affinity(dfs_values)\n",
    "fused_network = snf.snf(affinity_networks)\n",
    "np.fill_diagonal(fused_network, 0)"
   ]
  },
  {
   "cell_type": "code",
   "execution_count": 104,
   "id": "1d66e6d3-5303-4c5c-8913-2f956bc534d5",
   "metadata": {},
   "outputs": [
    {
     "data": {
      "text/plain": [
       "<AxesSubplot:ylabel='Frequency'>"
      ]
     },
     "execution_count": 104,
     "metadata": {},
     "output_type": "execute_result"
    },
    {
     "data": {
      "image/png": "[encoded data removed]",
      "text/plain": [
       "<Figure size 432x288 with 1 Axes>"
      ]
     },
     "metadata": {
      "needs_background": "light"
     },
     "output_type": "display_data"
    }
   ],
   "source": [
    "G = nx.from_pandas_adjacency(pd.DataFrame(data=fused_network, index=class_df.index.values, columns=class_df.index.values), create_using=nx.Graph())\n",
    "nx.to_pandas_edgelist(G)['weight'].plot.hist(bins=100)"
   ]
  },
  {
   "cell_type": "code",
   "execution_count": 98,
   "id": "74aca2d3-3c93-49a2-92aa-31bfeca2bc91",
   "metadata": {},
   "outputs": [
    {
     "data": {
      "text/plain": [
       "<AxesSubplot:ylabel='Frequency'>"
      ]
     },
     "execution_count": 98,
     "metadata": {},
     "output_type": "execute_result"
    },
    {
     "data": {
      "image/png": "[encoded data removed]",
      "text/plain": [
       "<Figure size 432x288 with 1 Axes>"
      ]
     },
     "metadata": {
      "needs_background": "light"
     },
     "output_type": "display_data"
    }
   ],
   "source": [
    "G = nx.from_pandas_adjacency(pd.DataFrame(data=fused_network, index=class_df.index.values, columns=class_df.index.values), create_using=nx.Graph())\n",
    "nx.to_pandas_edgelist(G)['weight'].plot.hist(bins=100)"
   ]
  },
  {
   "cell_type": "code",
   "execution_count": 101,
   "id": "41fd1944-b121-42b7-893e-2b1afa8fe0de",
   "metadata": {},
   "outputs": [
    {
     "data": {
      "text/plain": [
       "<AxesSubplot:ylabel='Frequency'>"
      ]
     },
     "execution_count": 101,
     "metadata": {},
     "output_type": "execute_result"
    },
    {
     "data": {
      "image/png": "[encoded data removed]",
      "text/plain": [
       "<Figure size 432x288 with 1 Axes>"
      ]
     },
     "metadata": {
      "needs_background": "light"
     },
     "output_type": "display_data"
    }
   ],
   "source": [
    "G = nx.from_pandas_adjacency(pd.DataFrame(data=fused_network, index=class_df.index.values, columns=class_df.index.values), create_using=nx.Graph())\n",
    "nx.to_pandas_edgelist(G)['weight'].plot.hist(bins=100)"
   ]
  },
  {
   "cell_type": "code",
   "execution_count": null,
   "id": "eb48073c-8836-4b53-8296-42abdcc72ce2",
   "metadata": {},
   "outputs": [],
   "source": []
  },
  {
   "cell_type": "code",
   "execution_count": null,
   "id": "1a83f3c9-5233-49e6-b7a5-61ec4c0b6ec5",
   "metadata": {},
   "outputs": [],
   "source": []
  },
  {
   "cell_type": "code",
   "execution_count": 4,
   "id": "c66b1291-6b2b-4c50-9504-9518f70353ec",
   "metadata": {},
   "outputs": [
    {
     "name": "stderr",
     "output_type": "stream",
     "text": [
      "100%|████████████████████████████████████████████████████████████████████████████████| 282/282 [00:03<00:00, 91.09it/s]\n"
     ]
    }
   ],
   "source": [
    "cancer = \"COAD\"\n",
    "base = f\"C:/Users/colombelli/Desktop/TCC/experiments/{cancer}/\"\n",
    "\n",
    "df = pd.read_csv(f\"{base}{cancer}_mRNA.csv\", index_col=0).T\n",
    "class_df = build_class_df(list(df.index), agglutinate_stages=False).dropna()\n",
    "df = df.loc[class_df.index, :]\n",
    "corr_df1 = get_correlation_dataframe(df) "
   ]
  },
  {
   "cell_type": "code",
   "execution_count": 15,
   "id": "53e39b90-2986-4aaa-b42d-9a6671888e86",
   "metadata": {},
   "outputs": [
    {
     "name": "stderr",
     "output_type": "stream",
     "text": [
      "100%|███████████████████████████████████████████████████████████████████████████████| 282/282 [00:02<00:00, 101.37it/s]\n",
      "100%|████████████████████████████████████████████████████████████████████████████████| 282/282 [00:03<00:00, 90.69it/s]\n"
     ]
    }
   ],
   "source": [
    "df = pd.read_csv(f\"{base}{cancer}_miRNA.csv\", index_col=0).T\n",
    "df = df.loc[class_df.index, :]\n",
    "corr_df2 = get_correlation_dataframe(df)\n",
    "\n",
    "df = pd.read_csv(f\"{base}{cancer}_Methy.csv\", index_col=0).T\n",
    "df = df.loc[class_df.index, :]\n",
    "corr_df3 = get_correlation_dataframe(df)"
   ]
  },
  {
   "cell_type": "code",
   "execution_count": 25,
   "id": "44741d94-240a-4db0-a478-6b8be3be16bf",
   "metadata": {},
   "outputs": [
    {
     "data": {
      "text/plain": [
       "(array([0, 1, 2], dtype=int64), array([12617, 13495, 13791], dtype=int64))"
      ]
     },
     "execution_count": 25,
     "metadata": {},
     "output_type": "execute_result"
    }
   ],
   "source": [
    "np.unique(np.argmax(np.array([corr_df1.r, corr_df2.r, corr_df3.r]), axis=0), return_counts=True)"
   ]
  },
  {
   "cell_type": "code",
   "execution_count": 39,
   "id": "ad40fe39-9916-4e13-ac11-64fb1c8fd35e",
   "metadata": {},
   "outputs": [
    {
     "data": {
      "text/html": [
       "<div>\n",
       "<style scoped>\n",
       "    .dataframe tbody tr th:only-of-type {\n",
       "        vertical-align: middle;\n",
       "    }\n",
       "\n",
       "    .dataframe tbody tr th {\n",
       "        vertical-align: top;\n",
       "    }\n",
       "\n",
       "    .dataframe thead th {\n",
       "        text-align: right;\n",
       "    }\n",
       "</style>\n",
       "<table border=\"1\" class=\"dataframe\">\n",
       "  <thead>\n",
       "    <tr style=\"text-align: right;\">\n",
       "      <th></th>\n",
       "      <th>sample1</th>\n",
       "      <th>sample2</th>\n",
       "      <th>r</th>\n",
       "      <th>p</th>\n",
       "    </tr>\n",
       "  </thead>\n",
       "  <tbody>\n",
       "    <tr>\n",
       "      <th>0</th>\n",
       "      <td>TCGA.3L.AA1B.01</td>\n",
       "      <td>TCGA.3L.AA1B.01</td>\n",
       "      <td>1.000000</td>\n",
       "      <td>0.000000e+00</td>\n",
       "    </tr>\n",
       "    <tr>\n",
       "      <th>1</th>\n",
       "      <td>TCGA.3L.AA1B.01</td>\n",
       "      <td>TCGA.4N.A93T.01</td>\n",
       "      <td>0.246780</td>\n",
       "      <td>4.270704e-04</td>\n",
       "    </tr>\n",
       "    <tr>\n",
       "      <th>2</th>\n",
       "      <td>TCGA.3L.AA1B.01</td>\n",
       "      <td>TCGA.4T.AA8H.01</td>\n",
       "      <td>0.047652</td>\n",
       "      <td>3.309244e-02</td>\n",
       "    </tr>\n",
       "    <tr>\n",
       "      <th>3</th>\n",
       "      <td>TCGA.3L.AA1B.01</td>\n",
       "      <td>TCGA.5M.AAT4.01</td>\n",
       "      <td>0.031085</td>\n",
       "      <td>6.621425e-01</td>\n",
       "    </tr>\n",
       "    <tr>\n",
       "      <th>4</th>\n",
       "      <td>TCGA.3L.AA1B.01</td>\n",
       "      <td>TCGA.5M.AAT6.01</td>\n",
       "      <td>0.261240</td>\n",
       "      <td>1.456921e-32</td>\n",
       "    </tr>\n",
       "    <tr>\n",
       "      <th>...</th>\n",
       "      <td>...</td>\n",
       "      <td>...</td>\n",
       "      <td>...</td>\n",
       "      <td>...</td>\n",
       "    </tr>\n",
       "    <tr>\n",
       "      <th>39898</th>\n",
       "      <td>TCGA.SS.A7HO.01</td>\n",
       "      <td>TCGA.T9.A92H.01</td>\n",
       "      <td>0.174986</td>\n",
       "      <td>3.232647e-15</td>\n",
       "    </tr>\n",
       "    <tr>\n",
       "      <th>39899</th>\n",
       "      <td>TCGA.SS.A7HO.01</td>\n",
       "      <td>TCGA.WS.AB45.01</td>\n",
       "      <td>0.058950</td>\n",
       "      <td>4.070064e-01</td>\n",
       "    </tr>\n",
       "    <tr>\n",
       "      <th>39900</th>\n",
       "      <td>TCGA.T9.A92H.01</td>\n",
       "      <td>TCGA.T9.A92H.01</td>\n",
       "      <td>1.000000</td>\n",
       "      <td>0.000000e+00</td>\n",
       "    </tr>\n",
       "    <tr>\n",
       "      <th>39901</th>\n",
       "      <td>TCGA.T9.A92H.01</td>\n",
       "      <td>TCGA.WS.AB45.01</td>\n",
       "      <td>-0.146645</td>\n",
       "      <td>3.825682e-02</td>\n",
       "    </tr>\n",
       "    <tr>\n",
       "      <th>39902</th>\n",
       "      <td>TCGA.WS.AB45.01</td>\n",
       "      <td>TCGA.WS.AB45.01</td>\n",
       "      <td>1.000000</td>\n",
       "      <td>0.000000e+00</td>\n",
       "    </tr>\n",
       "  </tbody>\n",
       "</table>\n",
       "<p>39903 rows × 4 columns</p>\n",
       "</div>"
      ],
      "text/plain": [
       "               sample1          sample2         r             p\n",
       "0      TCGA.3L.AA1B.01  TCGA.3L.AA1B.01  1.000000  0.000000e+00\n",
       "1      TCGA.3L.AA1B.01  TCGA.4N.A93T.01  0.246780  4.270704e-04\n",
       "2      TCGA.3L.AA1B.01  TCGA.4T.AA8H.01  0.047652  3.309244e-02\n",
       "3      TCGA.3L.AA1B.01  TCGA.5M.AAT4.01  0.031085  6.621425e-01\n",
       "4      TCGA.3L.AA1B.01  TCGA.5M.AAT6.01  0.261240  1.456921e-32\n",
       "...                ...              ...       ...           ...\n",
       "39898  TCGA.SS.A7HO.01  TCGA.T9.A92H.01  0.174986  3.232647e-15\n",
       "39899  TCGA.SS.A7HO.01  TCGA.WS.AB45.01  0.058950  4.070064e-01\n",
       "39900  TCGA.T9.A92H.01  TCGA.T9.A92H.01  1.000000  0.000000e+00\n",
       "39901  TCGA.T9.A92H.01  TCGA.WS.AB45.01 -0.146645  3.825682e-02\n",
       "39902  TCGA.WS.AB45.01  TCGA.WS.AB45.01  1.000000  0.000000e+00\n",
       "\n",
       "[39903 rows x 4 columns]"
      ]
     },
     "execution_count": 39,
     "metadata": {},
     "output_type": "execute_result"
    }
   ],
   "source": [
    "greatest_r = np.argmax(np.array([corr_df1.r, corr_df2.r, corr_df3.r]), axis=0)\n",
    "pd.concat([corr_df1.loc[greatest_r == 0], corr_df2.loc[greatest_r == 1], corr_df3.loc[greatest_r == 2]]).sort_index()"
   ]
  },
  {
   "cell_type": "code",
   "execution_count": 37,
   "id": "21da2cf1-0351-43ec-9eb5-54a8b003026a",
   "metadata": {},
   "outputs": [
    {
     "data": {
      "text/html": [
       "<div>\n",
       "<style scoped>\n",
       "    .dataframe tbody tr th:only-of-type {\n",
       "        vertical-align: middle;\n",
       "    }\n",
       "\n",
       "    .dataframe tbody tr th {\n",
       "        vertical-align: top;\n",
       "    }\n",
       "\n",
       "    .dataframe thead th {\n",
       "        text-align: right;\n",
       "    }\n",
       "</style>\n",
       "<table border=\"1\" class=\"dataframe\">\n",
       "  <thead>\n",
       "    <tr style=\"text-align: right;\">\n",
       "      <th></th>\n",
       "      <th>sample1</th>\n",
       "      <th>sample2</th>\n",
       "      <th>r</th>\n",
       "      <th>p</th>\n",
       "    </tr>\n",
       "  </thead>\n",
       "  <tbody>\n",
       "    <tr>\n",
       "      <th>0</th>\n",
       "      <td>TCGA.3L.AA1B.01</td>\n",
       "      <td>TCGA.3L.AA1B.01</td>\n",
       "      <td>1.000000</td>\n",
       "      <td>0.000000e+00</td>\n",
       "    </tr>\n",
       "    <tr>\n",
       "      <th>1</th>\n",
       "      <td>TCGA.3L.AA1B.01</td>\n",
       "      <td>TCGA.4N.A93T.01</td>\n",
       "      <td>0.246780</td>\n",
       "      <td>4.270704e-04</td>\n",
       "    </tr>\n",
       "    <tr>\n",
       "      <th>2</th>\n",
       "      <td>TCGA.3L.AA1B.01</td>\n",
       "      <td>TCGA.4T.AA8H.01</td>\n",
       "      <td>0.047652</td>\n",
       "      <td>3.309244e-02</td>\n",
       "    </tr>\n",
       "    <tr>\n",
       "      <th>3</th>\n",
       "      <td>TCGA.3L.AA1B.01</td>\n",
       "      <td>TCGA.5M.AAT4.01</td>\n",
       "      <td>0.031085</td>\n",
       "      <td>6.621425e-01</td>\n",
       "    </tr>\n",
       "    <tr>\n",
       "      <th>4</th>\n",
       "      <td>TCGA.3L.AA1B.01</td>\n",
       "      <td>TCGA.5M.AAT6.01</td>\n",
       "      <td>0.261240</td>\n",
       "      <td>1.456921e-32</td>\n",
       "    </tr>\n",
       "    <tr>\n",
       "      <th>...</th>\n",
       "      <td>...</td>\n",
       "      <td>...</td>\n",
       "      <td>...</td>\n",
       "      <td>...</td>\n",
       "    </tr>\n",
       "    <tr>\n",
       "      <th>39898</th>\n",
       "      <td>TCGA.SS.A7HO.01</td>\n",
       "      <td>TCGA.T9.A92H.01</td>\n",
       "      <td>0.174986</td>\n",
       "      <td>3.232647e-15</td>\n",
       "    </tr>\n",
       "    <tr>\n",
       "      <th>39899</th>\n",
       "      <td>TCGA.SS.A7HO.01</td>\n",
       "      <td>TCGA.WS.AB45.01</td>\n",
       "      <td>0.058950</td>\n",
       "      <td>4.070064e-01</td>\n",
       "    </tr>\n",
       "    <tr>\n",
       "      <th>39900</th>\n",
       "      <td>TCGA.T9.A92H.01</td>\n",
       "      <td>TCGA.T9.A92H.01</td>\n",
       "      <td>1.000000</td>\n",
       "      <td>0.000000e+00</td>\n",
       "    </tr>\n",
       "    <tr>\n",
       "      <th>39901</th>\n",
       "      <td>TCGA.T9.A92H.01</td>\n",
       "      <td>TCGA.WS.AB45.01</td>\n",
       "      <td>-0.146645</td>\n",
       "      <td>3.825682e-02</td>\n",
       "    </tr>\n",
       "    <tr>\n",
       "      <th>39902</th>\n",
       "      <td>TCGA.WS.AB45.01</td>\n",
       "      <td>TCGA.WS.AB45.01</td>\n",
       "      <td>1.000000</td>\n",
       "      <td>0.000000e+00</td>\n",
       "    </tr>\n",
       "  </tbody>\n",
       "</table>\n",
       "<p>39903 rows × 4 columns</p>\n",
       "</div>"
      ],
      "text/plain": [
       "               sample1          sample2         r             p\n",
       "0      TCGA.3L.AA1B.01  TCGA.3L.AA1B.01  1.000000  0.000000e+00\n",
       "1      TCGA.3L.AA1B.01  TCGA.4N.A93T.01  0.246780  4.270704e-04\n",
       "2      TCGA.3L.AA1B.01  TCGA.4T.AA8H.01  0.047652  3.309244e-02\n",
       "3      TCGA.3L.AA1B.01  TCGA.5M.AAT4.01  0.031085  6.621425e-01\n",
       "4      TCGA.3L.AA1B.01  TCGA.5M.AAT6.01  0.261240  1.456921e-32\n",
       "...                ...              ...       ...           ...\n",
       "39898  TCGA.SS.A7HO.01  TCGA.T9.A92H.01  0.174986  3.232647e-15\n",
       "39899  TCGA.SS.A7HO.01  TCGA.WS.AB45.01  0.058950  4.070064e-01\n",
       "39900  TCGA.T9.A92H.01  TCGA.T9.A92H.01  1.000000  0.000000e+00\n",
       "39901  TCGA.T9.A92H.01  TCGA.WS.AB45.01 -0.146645  3.825682e-02\n",
       "39902  TCGA.WS.AB45.01  TCGA.WS.AB45.01  1.000000  0.000000e+00\n",
       "\n",
       "[39903 rows x 4 columns]"
      ]
     },
     "execution_count": 37,
     "metadata": {},
     "output_type": "execute_result"
    }
   ],
   "source": [
    "merge_correlation_dataframes([corr_df1, corr_df2, corr_df3])"
   ]
  },
  {
   "cell_type": "code",
   "execution_count": null,
   "id": "77e456b6-c264-45f8-b224-5189649bfc56",
   "metadata": {},
   "outputs": [],
   "source": []
  },
  {
   "cell_type": "code",
   "execution_count": null,
   "id": "e440fa73-d962-4899-b5ee-3541507976e3",
   "metadata": {},
   "outputs": [],
   "source": [
    "from skfeature.utility import construct_W"
   ]
  },
  {
   "cell_type": "code",
   "execution_count": 4,
   "id": "5327b1f3-8841-44c2-9850-9ea5e96b67cd",
   "metadata": {},
   "outputs": [],
   "source": [
    "cancer = \"COAD\"\n",
    "base = f\"C:/Users/colombelli/Desktop/TCC/experiments/{cancer}/\"\n",
    "gene = pd.read_csv(f\"{base}{cancer}_mRNA.csv\", index_col=0)"
   ]
  },
  {
   "cell_type": "code",
   "execution_count": 5,
   "id": "6a02c533-ca58-47e3-b7a4-e16d490ed11d",
   "metadata": {},
   "outputs": [
    {
     "data": {
      "text/html": [
       "<div>\n",
       "<style scoped>\n",
       "    .dataframe tbody tr th:only-of-type {\n",
       "        vertical-align: middle;\n",
       "    }\n",
       "\n",
       "    .dataframe tbody tr th {\n",
       "        vertical-align: top;\n",
       "    }\n",
       "\n",
       "    .dataframe thead th {\n",
       "        text-align: right;\n",
       "    }\n",
       "</style>\n",
       "<table border=\"1\" class=\"dataframe\">\n",
       "  <thead>\n",
       "    <tr style=\"text-align: right;\">\n",
       "      <th></th>\n",
       "      <th>TCGA.3L.AA1B.01</th>\n",
       "      <th>TCGA.4N.A93T.01</th>\n",
       "      <th>TCGA.4T.AA8H.01</th>\n",
       "      <th>TCGA.5M.AAT4.01</th>\n",
       "      <th>TCGA.5M.AAT6.01</th>\n",
       "      <th>TCGA.5M.AATE.01</th>\n",
       "      <th>TCGA.A6.2671.01</th>\n",
       "      <th>TCGA.A6.2672.01</th>\n",
       "      <th>TCGA.A6.2675.01</th>\n",
       "      <th>TCGA.A6.2677.01</th>\n",
       "      <th>...</th>\n",
       "      <th>TCGA.QG.A5YV.01</th>\n",
       "      <th>TCGA.QG.A5YW.01</th>\n",
       "      <th>TCGA.QG.A5YX.01</th>\n",
       "      <th>TCGA.QG.A5Z1.01</th>\n",
       "      <th>TCGA.QG.A5Z2.01</th>\n",
       "      <th>TCGA.QL.A97D.01</th>\n",
       "      <th>TCGA.RU.A8FL.01</th>\n",
       "      <th>TCGA.SS.A7HO.01</th>\n",
       "      <th>TCGA.T9.A92H.01</th>\n",
       "      <th>TCGA.WS.AB45.01</th>\n",
       "    </tr>\n",
       "  </thead>\n",
       "  <tbody>\n",
       "    <tr>\n",
       "      <th>RPS4Y1</th>\n",
       "      <td>-1.035590</td>\n",
       "      <td>1.276498</td>\n",
       "      <td>0.641973</td>\n",
       "      <td>-0.488932</td>\n",
       "      <td>-0.446935</td>\n",
       "      <td>1.364889</td>\n",
       "      <td>0.110834</td>\n",
       "      <td>-0.083130</td>\n",
       "      <td>0.330267</td>\n",
       "      <td>-0.094889</td>\n",
       "      <td>...</td>\n",
       "      <td>-1.136451</td>\n",
       "      <td>-1.059011</td>\n",
       "      <td>-1.088005</td>\n",
       "      <td>-0.019340</td>\n",
       "      <td>1.285423</td>\n",
       "      <td>0.676344</td>\n",
       "      <td>-0.708095</td>\n",
       "      <td>-1.118551</td>\n",
       "      <td>-0.466514</td>\n",
       "      <td>0.469696</td>\n",
       "    </tr>\n",
       "    <tr>\n",
       "      <th>PLA2G12B</th>\n",
       "      <td>0.134160</td>\n",
       "      <td>-1.233892</td>\n",
       "      <td>-1.185981</td>\n",
       "      <td>-0.053549</td>\n",
       "      <td>-1.189513</td>\n",
       "      <td>-0.262781</td>\n",
       "      <td>-1.245440</td>\n",
       "      <td>-0.223286</td>\n",
       "      <td>0.814536</td>\n",
       "      <td>0.077590</td>\n",
       "      <td>...</td>\n",
       "      <td>0.722711</td>\n",
       "      <td>-0.196090</td>\n",
       "      <td>1.638953</td>\n",
       "      <td>0.585758</td>\n",
       "      <td>-1.185634</td>\n",
       "      <td>-1.204182</td>\n",
       "      <td>0.771165</td>\n",
       "      <td>1.271005</td>\n",
       "      <td>0.341615</td>\n",
       "      <td>-1.229306</td>\n",
       "    </tr>\n",
       "    <tr>\n",
       "      <th>IRX2</th>\n",
       "      <td>-1.161729</td>\n",
       "      <td>1.017097</td>\n",
       "      <td>1.811620</td>\n",
       "      <td>-1.096155</td>\n",
       "      <td>0.954336</td>\n",
       "      <td>1.037169</td>\n",
       "      <td>0.529566</td>\n",
       "      <td>0.169593</td>\n",
       "      <td>-0.978943</td>\n",
       "      <td>-0.137452</td>\n",
       "      <td>...</td>\n",
       "      <td>1.189071</td>\n",
       "      <td>-1.087309</td>\n",
       "      <td>0.051335</td>\n",
       "      <td>-1.123347</td>\n",
       "      <td>0.916396</td>\n",
       "      <td>1.851163</td>\n",
       "      <td>0.269070</td>\n",
       "      <td>1.169738</td>\n",
       "      <td>-1.131688</td>\n",
       "      <td>-0.911252</td>\n",
       "    </tr>\n",
       "    <tr>\n",
       "      <th>GNG4</th>\n",
       "      <td>0.804959</td>\n",
       "      <td>0.668608</td>\n",
       "      <td>-0.146531</td>\n",
       "      <td>0.123667</td>\n",
       "      <td>-0.826497</td>\n",
       "      <td>1.663274</td>\n",
       "      <td>1.462529</td>\n",
       "      <td>-0.501833</td>\n",
       "      <td>0.807896</td>\n",
       "      <td>0.091087</td>\n",
       "      <td>...</td>\n",
       "      <td>1.345180</td>\n",
       "      <td>0.444895</td>\n",
       "      <td>0.559792</td>\n",
       "      <td>1.034338</td>\n",
       "      <td>-1.301866</td>\n",
       "      <td>-0.383000</td>\n",
       "      <td>0.812885</td>\n",
       "      <td>-0.357360</td>\n",
       "      <td>0.781181</td>\n",
       "      <td>-1.391387</td>\n",
       "    </tr>\n",
       "    <tr>\n",
       "      <th>LINC00960</th>\n",
       "      <td>1.554203</td>\n",
       "      <td>1.183877</td>\n",
       "      <td>0.137912</td>\n",
       "      <td>-1.190119</td>\n",
       "      <td>1.182505</td>\n",
       "      <td>1.284356</td>\n",
       "      <td>-0.268431</td>\n",
       "      <td>-0.454227</td>\n",
       "      <td>-1.244976</td>\n",
       "      <td>0.063226</td>\n",
       "      <td>...</td>\n",
       "      <td>1.256058</td>\n",
       "      <td>-1.017427</td>\n",
       "      <td>0.755304</td>\n",
       "      <td>-1.264404</td>\n",
       "      <td>1.360400</td>\n",
       "      <td>1.048561</td>\n",
       "      <td>-1.373574</td>\n",
       "      <td>1.296718</td>\n",
       "      <td>-0.359932</td>\n",
       "      <td>-0.280423</td>\n",
       "    </tr>\n",
       "    <tr>\n",
       "      <th>...</th>\n",
       "      <td>...</td>\n",
       "      <td>...</td>\n",
       "      <td>...</td>\n",
       "      <td>...</td>\n",
       "      <td>...</td>\n",
       "      <td>...</td>\n",
       "      <td>...</td>\n",
       "      <td>...</td>\n",
       "      <td>...</td>\n",
       "      <td>...</td>\n",
       "      <td>...</td>\n",
       "      <td>...</td>\n",
       "      <td>...</td>\n",
       "      <td>...</td>\n",
       "      <td>...</td>\n",
       "      <td>...</td>\n",
       "      <td>...</td>\n",
       "      <td>...</td>\n",
       "      <td>...</td>\n",
       "      <td>...</td>\n",
       "      <td>...</td>\n",
       "    </tr>\n",
       "    <tr>\n",
       "      <th>MRPL18</th>\n",
       "      <td>-1.279206</td>\n",
       "      <td>0.670130</td>\n",
       "      <td>-0.587969</td>\n",
       "      <td>0.170503</td>\n",
       "      <td>0.954628</td>\n",
       "      <td>-0.636561</td>\n",
       "      <td>0.124308</td>\n",
       "      <td>-0.484742</td>\n",
       "      <td>-0.337058</td>\n",
       "      <td>-0.187890</td>\n",
       "      <td>...</td>\n",
       "      <td>0.968092</td>\n",
       "      <td>0.565546</td>\n",
       "      <td>0.558886</td>\n",
       "      <td>-1.271067</td>\n",
       "      <td>-0.870002</td>\n",
       "      <td>-0.764083</td>\n",
       "      <td>1.946830</td>\n",
       "      <td>0.421252</td>\n",
       "      <td>1.158265</td>\n",
       "      <td>-2.119467</td>\n",
       "    </tr>\n",
       "    <tr>\n",
       "      <th>SPN</th>\n",
       "      <td>0.388930</td>\n",
       "      <td>-1.137061</td>\n",
       "      <td>-1.218467</td>\n",
       "      <td>-1.132593</td>\n",
       "      <td>1.001027</td>\n",
       "      <td>-0.927787</td>\n",
       "      <td>-0.336330</td>\n",
       "      <td>0.218158</td>\n",
       "      <td>0.595751</td>\n",
       "      <td>-0.155436</td>\n",
       "      <td>...</td>\n",
       "      <td>-1.072951</td>\n",
       "      <td>0.276702</td>\n",
       "      <td>-0.974266</td>\n",
       "      <td>-0.615218</td>\n",
       "      <td>0.986733</td>\n",
       "      <td>0.317700</td>\n",
       "      <td>-0.916163</td>\n",
       "      <td>2.060331</td>\n",
       "      <td>-0.767384</td>\n",
       "      <td>0.885656</td>\n",
       "    </tr>\n",
       "    <tr>\n",
       "      <th>BICC1</th>\n",
       "      <td>0.317152</td>\n",
       "      <td>-1.472641</td>\n",
       "      <td>-1.505502</td>\n",
       "      <td>-0.998722</td>\n",
       "      <td>2.182287</td>\n",
       "      <td>-0.821735</td>\n",
       "      <td>0.081200</td>\n",
       "      <td>0.113428</td>\n",
       "      <td>1.294722</td>\n",
       "      <td>0.173864</td>\n",
       "      <td>...</td>\n",
       "      <td>-0.879645</td>\n",
       "      <td>-0.220487</td>\n",
       "      <td>-1.489088</td>\n",
       "      <td>0.614572</td>\n",
       "      <td>-1.262709</td>\n",
       "      <td>-0.930657</td>\n",
       "      <td>0.105303</td>\n",
       "      <td>-1.081674</td>\n",
       "      <td>0.875278</td>\n",
       "      <td>2.411032</td>\n",
       "    </tr>\n",
       "    <tr>\n",
       "      <th>ANO9</th>\n",
       "      <td>1.242822</td>\n",
       "      <td>1.555979</td>\n",
       "      <td>0.010808</td>\n",
       "      <td>1.334994</td>\n",
       "      <td>-1.154203</td>\n",
       "      <td>1.415784</td>\n",
       "      <td>1.082372</td>\n",
       "      <td>-0.076588</td>\n",
       "      <td>1.111478</td>\n",
       "      <td>-0.053631</td>\n",
       "      <td>...</td>\n",
       "      <td>1.200325</td>\n",
       "      <td>0.570548</td>\n",
       "      <td>0.396946</td>\n",
       "      <td>1.103185</td>\n",
       "      <td>0.000594</td>\n",
       "      <td>1.631416</td>\n",
       "      <td>1.404305</td>\n",
       "      <td>1.629652</td>\n",
       "      <td>0.744617</td>\n",
       "      <td>-3.373772</td>\n",
       "    </tr>\n",
       "    <tr>\n",
       "      <th>CEMIP</th>\n",
       "      <td>2.047674</td>\n",
       "      <td>-2.195311</td>\n",
       "      <td>1.141679</td>\n",
       "      <td>1.189677</td>\n",
       "      <td>-0.049323</td>\n",
       "      <td>0.154433</td>\n",
       "      <td>0.300230</td>\n",
       "      <td>-0.216904</td>\n",
       "      <td>0.021882</td>\n",
       "      <td>-0.082683</td>\n",
       "      <td>...</td>\n",
       "      <td>0.344388</td>\n",
       "      <td>-1.077025</td>\n",
       "      <td>-0.569247</td>\n",
       "      <td>0.678116</td>\n",
       "      <td>0.477757</td>\n",
       "      <td>-0.104987</td>\n",
       "      <td>-0.541656</td>\n",
       "      <td>1.574654</td>\n",
       "      <td>-0.235804</td>\n",
       "      <td>1.275832</td>\n",
       "    </tr>\n",
       "  </tbody>\n",
       "</table>\n",
       "<p>2000 rows × 291 columns</p>\n",
       "</div>"
      ],
      "text/plain": [
       "           TCGA.3L.AA1B.01  TCGA.4N.A93T.01  TCGA.4T.AA8H.01  TCGA.5M.AAT4.01  \\\n",
       "RPS4Y1           -1.035590         1.276498         0.641973        -0.488932   \n",
       "PLA2G12B          0.134160        -1.233892        -1.185981        -0.053549   \n",
       "IRX2             -1.161729         1.017097         1.811620        -1.096155   \n",
       "GNG4              0.804959         0.668608        -0.146531         0.123667   \n",
       "LINC00960         1.554203         1.183877         0.137912        -1.190119   \n",
       "...                    ...              ...              ...              ...   \n",
       "MRPL18           -1.279206         0.670130        -0.587969         0.170503   \n",
       "SPN               0.388930        -1.137061        -1.218467        -1.132593   \n",
       "BICC1             0.317152        -1.472641        -1.505502        -0.998722   \n",
       "ANO9              1.242822         1.555979         0.010808         1.334994   \n",
       "CEMIP             2.047674        -2.195311         1.141679         1.189677   \n",
       "\n",
       "           TCGA.5M.AAT6.01  TCGA.5M.AATE.01  TCGA.A6.2671.01  TCGA.A6.2672.01  \\\n",
       "RPS4Y1           -0.446935         1.364889         0.110834        -0.083130   \n",
       "PLA2G12B         -1.189513        -0.262781        -1.245440        -0.223286   \n",
       "IRX2              0.954336         1.037169         0.529566         0.169593   \n",
       "GNG4             -0.826497         1.663274         1.462529        -0.501833   \n",
       "LINC00960         1.182505         1.284356        -0.268431        -0.454227   \n",
       "...                    ...              ...              ...              ...   \n",
       "MRPL18            0.954628        -0.636561         0.124308        -0.484742   \n",
       "SPN               1.001027        -0.927787        -0.336330         0.218158   \n",
       "BICC1             2.182287        -0.821735         0.081200         0.113428   \n",
       "ANO9             -1.154203         1.415784         1.082372        -0.076588   \n",
       "CEMIP            -0.049323         0.154433         0.300230        -0.216904   \n",
       "\n",
       "           TCGA.A6.2675.01  TCGA.A6.2677.01  ...  TCGA.QG.A5YV.01  \\\n",
       "RPS4Y1            0.330267        -0.094889  ...        -1.136451   \n",
       "PLA2G12B          0.814536         0.077590  ...         0.722711   \n",
       "IRX2             -0.978943        -0.137452  ...         1.189071   \n",
       "GNG4              0.807896         0.091087  ...         1.345180   \n",
       "LINC00960        -1.244976         0.063226  ...         1.256058   \n",
       "...                    ...              ...  ...              ...   \n",
       "MRPL18           -0.337058        -0.187890  ...         0.968092   \n",
       "SPN               0.595751        -0.155436  ...        -1.072951   \n",
       "BICC1             1.294722         0.173864  ...        -0.879645   \n",
       "ANO9              1.111478        -0.053631  ...         1.200325   \n",
       "CEMIP             0.021882        -0.082683  ...         0.344388   \n",
       "\n",
       "           TCGA.QG.A5YW.01  TCGA.QG.A5YX.01  TCGA.QG.A5Z1.01  TCGA.QG.A5Z2.01  \\\n",
       "RPS4Y1           -1.059011        -1.088005        -0.019340         1.285423   \n",
       "PLA2G12B         -0.196090         1.638953         0.585758        -1.185634   \n",
       "IRX2             -1.087309         0.051335        -1.123347         0.916396   \n",
       "GNG4              0.444895         0.559792         1.034338        -1.301866   \n",
       "LINC00960        -1.017427         0.755304        -1.264404         1.360400   \n",
       "...                    ...              ...              ...              ...   \n",
       "MRPL18            0.565546         0.558886        -1.271067        -0.870002   \n",
       "SPN               0.276702        -0.974266        -0.615218         0.986733   \n",
       "BICC1            -0.220487        -1.489088         0.614572        -1.262709   \n",
       "ANO9              0.570548         0.396946         1.103185         0.000594   \n",
       "CEMIP            -1.077025        -0.569247         0.678116         0.477757   \n",
       "\n",
       "           TCGA.QL.A97D.01  TCGA.RU.A8FL.01  TCGA.SS.A7HO.01  TCGA.T9.A92H.01  \\\n",
       "RPS4Y1            0.676344        -0.708095        -1.118551        -0.466514   \n",
       "PLA2G12B         -1.204182         0.771165         1.271005         0.341615   \n",
       "IRX2              1.851163         0.269070         1.169738        -1.131688   \n",
       "GNG4             -0.383000         0.812885        -0.357360         0.781181   \n",
       "LINC00960         1.048561        -1.373574         1.296718        -0.359932   \n",
       "...                    ...              ...              ...              ...   \n",
       "MRPL18           -0.764083         1.946830         0.421252         1.158265   \n",
       "SPN               0.317700        -0.916163         2.060331        -0.767384   \n",
       "BICC1            -0.930657         0.105303        -1.081674         0.875278   \n",
       "ANO9              1.631416         1.404305         1.629652         0.744617   \n",
       "CEMIP            -0.104987        -0.541656         1.574654        -0.235804   \n",
       "\n",
       "           TCGA.WS.AB45.01  \n",
       "RPS4Y1            0.469696  \n",
       "PLA2G12B         -1.229306  \n",
       "IRX2             -0.911252  \n",
       "GNG4             -1.391387  \n",
       "LINC00960        -0.280423  \n",
       "...                    ...  \n",
       "MRPL18           -2.119467  \n",
       "SPN               0.885656  \n",
       "BICC1             2.411032  \n",
       "ANO9             -3.373772  \n",
       "CEMIP             1.275832  \n",
       "\n",
       "[2000 rows x 291 columns]"
      ]
     },
     "execution_count": 5,
     "metadata": {},
     "output_type": "execute_result"
    }
   ],
   "source": [
    "gene"
   ]
  },
  {
   "cell_type": "markdown",
   "id": "3a5e5dad-5d8a-42fc-8e25-8b6e8fd704a4",
   "metadata": {},
   "source": [
    "#### Complete pipeline"
   ]
  },
  {
   "cell_type": "code",
   "execution_count": 10,
   "id": "0799d24f-38da-4a29-9d6f-d30412566be3",
   "metadata": {},
   "outputs": [
    {
     "name": "stderr",
     "output_type": "stream",
     "text": [
      "100%|████████████████████████████████████████████████████████████████████████████████| 313/313 [00:03<00:00, 82.66it/s]\n"
     ]
    }
   ],
   "source": [
    "cancer = \"KIRC\"\n",
    "base = f\"C:/Users/colombelli/Desktop/TCC/experiments/{cancer}/\"\n",
    "\n",
    "df = pd.read_csv(f\"{base}{cancer}_mRNA.csv\", index_col=0).T\n",
    "class_df = build_class_df(list(df.index), agglutinate_stages=False).dropna()\n",
    "df = df.loc[class_df.index, :]\n",
    "corr_df_mrna = get_correlation_dataframe(df) \n",
    "\n",
    "df = pd.read_csv(f\"{base}{cancer}_miRNA.csv\", index_col=0).T\n",
    "df = df.loc[class_df.index, :]\n",
    "corr_df_mirna = get_correlation_dataframe(df) \n",
    "\n",
    "df = pd.read_csv(f\"{base}{cancer}_Methy.csv\", index_col=0).T\n",
    "df = df.loc[class_df.index, :]\n",
    "corr_df_methy = get_correlation_dataframe(df) \n",
    "\n",
    "corr_df = merge_correlation_dataframes([corr_df_mrna, corr_df_mirna, corr_df_methy])"
   ]
  },
  {
   "cell_type": "code",
   "execution_count": 5,
   "id": "1969f6da-baef-4dd0-8f7d-5e3de9f89ffe",
   "metadata": {},
   "outputs": [
    {
     "data": {
      "text/plain": [
       "0.9845201238390093"
      ]
     },
     "execution_count": 5,
     "metadata": {},
     "output_type": "execute_result"
    }
   ],
   "source": [
    "r_threshold = 0.7\n",
    "p_threshold = 0.05\n",
    "\n",
    "get_consistency_index(build_edge_list(corr_df, r_threshold, p_threshold), class_df)"
   ]
  },
  {
   "cell_type": "code",
   "execution_count": 18,
   "id": "a58c9d80-eecb-4d02-830b-a3dd5ac79b17",
   "metadata": {},
   "outputs": [],
   "source": [
    "save_dir = base+\"stage_1_2_3_4/07_005/\"\n",
    "generate_csvs(build_edge_list(corr_df, r_threshold, p_threshold), class_df, max_each_feature=100)"
   ]
  },
  {
   "cell_type": "markdown",
   "id": "6e317e14-e139-4bdb-9174-a6022d313479",
   "metadata": {
    "tags": []
   },
   "source": [
    "#### Automatic various thresholds network creation"
   ]
  },
  {
   "cell_type": "code",
   "execution_count": 40,
   "id": "beaaa7c4-2db6-4dda-b760-5dab9c3ba995",
   "metadata": {},
   "outputs": [
    {
     "name": "stdout",
     "output_type": "stream",
     "text": [
      "COAD\n"
     ]
    },
    {
     "name": "stderr",
     "output_type": "stream",
     "text": [
      "100%|████████████████████████████████████████████████████████████████████████████████| 282/282 [00:03<00:00, 90.66it/s]\n",
      "100%|███████████████████████████████████████████████████████████████████████████████| 282/282 [00:02<00:00, 101.35it/s]\n",
      "100%|████████████████████████████████████████████████████████████████████████████████| 282/282 [00:03<00:00, 91.55it/s]\n"
     ]
    },
    {
     "name": "stdout",
     "output_type": "stream",
     "text": [
      "0\n",
      "0.1\n",
      "0.2\n",
      "0.3\n",
      "0.4\n",
      "0.5\n",
      "0.6\n",
      "0.7\n",
      "0.8\n",
      "\n",
      "\n",
      "\n",
      "KIRC\n"
     ]
    },
    {
     "name": "stderr",
     "output_type": "stream",
     "text": [
      "100%|████████████████████████████████████████████████████████████████████████████████| 313/313 [00:03<00:00, 79.75it/s]\n",
      "100%|████████████████████████████████████████████████████████████████████████████████| 313/313 [00:03<00:00, 85.46it/s]\n",
      "100%|████████████████████████████████████████████████████████████████████████████████| 313/313 [00:03<00:00, 79.24it/s]\n"
     ]
    },
    {
     "name": "stdout",
     "output_type": "stream",
     "text": [
      "0\n",
      "0.1\n",
      "0.2\n",
      "0.3\n",
      "0.4\n",
      "0.5\n",
      "0.6\n",
      "0.7\n",
      "0.8\n",
      "\n",
      "\n",
      "\n",
      "LUAD\n"
     ]
    },
    {
     "name": "stderr",
     "output_type": "stream",
     "text": [
      "100%|████████████████████████████████████████████████████████████████████████████████| 445/445 [00:08<00:00, 54.30it/s]\n",
      "100%|████████████████████████████████████████████████████████████████████████████████| 445/445 [00:07<00:00, 60.80it/s]\n",
      "100%|████████████████████████████████████████████████████████████████████████████████| 445/445 [00:08<00:00, 54.45it/s]\n"
     ]
    },
    {
     "name": "stdout",
     "output_type": "stream",
     "text": [
      "0\n",
      "0.1\n",
      "0.2\n",
      "0.3\n",
      "0.4\n",
      "0.5\n",
      "0.6\n",
      "0.7\n",
      "0.8\n",
      "\n",
      "\n",
      "\n"
     ]
    }
   ],
   "source": [
    "cancers = [\"COAD\", \"KIRC\", \"LUAD\"]\n",
    "r_thresholds = [0, 0.1, 0.2, 0.3, 0.4, 0.5, 0.6, 0.7, 0.8] \n",
    "\n",
    "for cancer in cancers:\n",
    "    print(cancer)\n",
    "    base = f\"C:/Users/colombelli/Desktop/TCC/experiments/{cancer}/\"\n",
    "\n",
    "    df = pd.read_csv(f\"{base}{cancer}_mRNA.csv\", index_col=0).T\n",
    "    class_df = build_class_df(list(df.index), agglutinate_stages=False).dropna()\n",
    "    df = df.loc[class_df.index, :]\n",
    "    corr_df_mrna = get_correlation_dataframe(df) \n",
    "\n",
    "    df = pd.read_csv(f\"{base}{cancer}_miRNA.csv\", index_col=0).T\n",
    "    df = df.loc[class_df.index, :]\n",
    "    corr_df_mirna = get_correlation_dataframe(df) \n",
    "\n",
    "    df = pd.read_csv(f\"{base}{cancer}_Methy.csv\", index_col=0).T\n",
    "    df = df.loc[class_df.index, :]\n",
    "    corr_df_methy = get_correlation_dataframe(df) \n",
    "\n",
    "    corr_df = merge_correlation_dataframes([corr_df_mrna, corr_df_mirna, corr_df_methy])\n",
    "    \n",
    "    # Write class counts and their weights for the categorical cross entropy\n",
    "    n_samples = len(class_df)\n",
    "    n_classes = 4\n",
    "    with open(f\"{base}class_info.txt\", 'w') as f:\n",
    "        print(\"class\\t | #\\t| weight\", file=f)\n",
    "        for i, count in class_df.value_counts().items():\n",
    "            weight = n_samples / (n_classes * count)\n",
    "            print(i[0], \"\\t |\", count, \"\\t| \", weight, file=f)\n",
    "    \n",
    "    \n",
    "    for r in r_thresholds:\n",
    "        print(r)\n",
    "        save_dir = f\"{base}thresholds_2/{str(r).replace('.', '')}_005/\"\n",
    "        generate_csvs(build_edge_list(corr_df, r, 0.05), class_df, max_each_feature=999999)\n",
    "    print(\"\\n\\n\")"
   ]
  },
  {
   "cell_type": "markdown",
   "id": "fac80125-ff7a-4c4b-ad5e-b958d382844b",
   "metadata": {},
   "source": [
    "### Automatic threshold network creation with SNF"
   ]
  },
  {
   "cell_type": "code",
   "execution_count": 108,
   "id": "2d8a809a-5980-4eac-90ff-bd66e5e653e5",
   "metadata": {},
   "outputs": [
    {
     "name": "stdout",
     "output_type": "stream",
     "text": [
      "COAD\n",
      "0.0025\n",
      "0.003\n",
      "0.0035\n",
      "0.004\n",
      "0.0045\n",
      "\n",
      "\n",
      "\n",
      "KIRC\n",
      "0.0025\n",
      "0.003\n",
      "0.0035\n",
      "0.004\n",
      "0.0045\n",
      "\n",
      "\n",
      "\n",
      "LUAD\n",
      "0.0015\n",
      "0.002\n",
      "0.0025\n",
      "0.003\n",
      "0.0035\n",
      "\n",
      "\n",
      "\n"
     ]
    }
   ],
   "source": [
    "cancers = [\"COAD\", \"KIRC\", \"LUAD\"]\n",
    "thresholds = {\n",
    "    \"COAD\": [0.0025, 0.0030, 0.0035, 0.0040, 0.0045],\n",
    "    \"KIRC\": [0.0025, 0.0030, 0.0035, 0.0040, 0.0045],\n",
    "    \"LUAD\": [0.0015, 0.0020, 0.0025, 0.0030, 0.0035]\n",
    "    }\n",
    "\n",
    "for cancer in cancers:\n",
    "    print(cancer)\n",
    "    base = f\"C:/Users/colombelli/Desktop/TCC/experiments/{cancer}/\"\n",
    "\n",
    "    dfs_values = []\n",
    "\n",
    "    df1 = pd.read_csv(f\"{base}{cancer}_mRNA.csv\", index_col=0).T\n",
    "    class_df = build_class_df(list(df1.index), agglutinate_stages=False).dropna()\n",
    "    dfs_values.append(df1.loc[class_df.index, :].values)\n",
    "\n",
    "    df2 = pd.read_csv(f\"{base}{cancer}_miRNA.csv\", index_col=0).T\n",
    "    dfs_values.append(df2.loc[class_df.index, :].values)\n",
    "\n",
    "    df3 = pd.read_csv(f\"{base}{cancer}_Methy.csv\", index_col=0).T\n",
    "    dfs_values.append(df3.loc[class_df.index, :].values)\n",
    "    \n",
    "    graph_df = get_snf_network(dfs_values, class_df)\n",
    "    \n",
    "    # Write class counts and their weights for the categorical cross entropy\n",
    "    n_samples = len(class_df)\n",
    "    n_classes = 4\n",
    "    with open(f\"{base}class_info.txt\", 'w') as f:\n",
    "        print(\"class\\t | #\\t| weight\", file=f)\n",
    "        for i, count in class_df.value_counts().items():\n",
    "            weight = n_samples / (n_classes * count)\n",
    "            print(i[0], \"\\t |\", count, \"\\t| \", weight, file=f)\n",
    "    \n",
    "    \n",
    "    for th in thresholds[cancer]:\n",
    "        print(th)\n",
    "        save_dir = f\"{base}snf/{str(th).replace('.', '')}/\"\n",
    "        generate_csvs(filter_relevant_connections(graph_df, th), class_df, max_each_feature=999999)\n",
    "    print(\"\\n\\n\")"
   ]
  },
  {
   "cell_type": "markdown",
   "id": "38b13c41-9fce-4960-8046-8143d8563e8f",
   "metadata": {},
   "source": [
    "#### Calculate alpha weights for focal loss"
   ]
  },
  {
   "cell_type": "code",
   "execution_count": 19,
   "id": "6a648307-2f18-46ae-ad77-bed437405a9e",
   "metadata": {},
   "outputs": [
    {
     "name": "stdout",
     "output_type": "stream",
     "text": [
      "class\t | #\t| weight\n",
      "stage1 \t | 244 \t|  0.45594262295081966\n",
      "stage2 \t | 109 \t|  1.0206422018348624\n",
      "stage3 \t | 73 \t|  1.523972602739726\n",
      "stage4 \t | 19 \t|  5.855263157894737\n"
     ]
    }
   ],
   "source": [
    "n_samples = len(class_df)\n",
    "n_classes = 4\n",
    "print(\"class\\t | #\\t| weight\")\n",
    "for i, count in class_df.value_counts().items():\n",
    "    weight = n_samples / (n_classes * count)\n",
    "    print(i[0], \"\\t |\", count, \"\\t| \", weight)"
   ]
  },
  {
   "cell_type": "markdown",
   "id": "fd45e8ad-c5af-4b4b-8928-16c2235e2120",
   "metadata": {},
   "source": [
    "### PMLB datasets"
   ]
  },
  {
   "cell_type": "code",
   "execution_count": 19,
   "id": "3b89038e-4699-4ded-8985-14f551e5f290",
   "metadata": {},
   "outputs": [],
   "source": [
    "def get_correlation_dataframe(df):\n",
    "    col_1 = []\n",
    "    col_2 = []\n",
    "    col_r = []\n",
    "    col_p = []\n",
    "\n",
    "    for idx1, row1 in tqdm(df.iterrows(), total=df.shape[0]):\n",
    "        for idx2, row2 in df.loc[idx1:, :].iterrows():\n",
    "            r, p = stats.pearsonr(row1.values, row2.values)\n",
    "            col_1.append(idx1)\n",
    "            col_2.append(idx2)\n",
    "            col_r.append(r)\n",
    "            col_p.append(p)\n",
    "            \n",
    "    corr_df = pd.DataFrame.from_dict({\n",
    "        \"sample1\": col_1,\n",
    "        \"sample2\": col_2,\n",
    "        \"r\": col_r,\n",
    "        \"p\": col_p\n",
    "    })\n",
    "    return corr_df\n",
    "\n",
    "\n",
    "def build_edge_list(df, r_filter, p_filter):\n",
    "    edges_df = df.loc[(df.r >= r_filter) & (df['p'] <= p_filter)]\n",
    "    return edges_df.rename(columns={'sample1':'source', 'sample2':'target'})\n",
    "\n",
    "\n",
    "def get_stage_class_from_patient(patient_idx, clin_df, agglutinate_stages=False):\n",
    "    stage_str = clin_df.loc[patient_idx, \"pathologic_stage\"]\n",
    "    \n",
    "    if stage_str in [\"stage i\"+suffix for suffix in ['', 'a','b','c']]:\n",
    "        return \"stage1\"\n",
    "    elif stage_str in [\"stage ii\"+suffix for suffix in ['', 'a','b','c']]:\n",
    "        if agglutinate_stages:\n",
    "            return \"stage23\"\n",
    "        else:\n",
    "            return \"stage2\"\n",
    "    elif stage_str in [\"stage iii\"+suffix for suffix in ['', 'a','b','c']]:\n",
    "        if agglutinate_stages:\n",
    "            return \"stage23\"\n",
    "        else:\n",
    "            return \"stage3\"\n",
    "    elif stage_str in [\"stage iv\"+suffix for suffix in ['', 'a','b','c']]:\n",
    "        return \"stage4\"\n",
    "    else:\n",
    "        return np.nan\n",
    "\n",
    "\n",
    "def build_class_df(df):    \n",
    "    return pd.DataFrame.from_dict({\n",
    "            \"id\": list(df.index),\n",
    "            \"class\": df.target.values\n",
    "        }).set_index(\"id\")\n",
    "\n",
    "\n",
    "def get_consistency_index(corr_df, class_df):\n",
    "    correct_connections = 0\n",
    "    for index, row in corr_df.iterrows():\n",
    "        src_class = class_df.loc[row[0], \"class\"]\n",
    "        trg_class = class_df.loc[row[1], \"class\"]\n",
    "        \n",
    "        if src_class == trg_class:\n",
    "            correct_connections += 1\n",
    "    return correct_connections/len(corr_df)\n",
    "\n",
    "\n",
    "def generate_csvs(edges_df, class_df, features_df):\n",
    "    edges_df.to_csv(save_dir+\"edges.csv\", index=False)\n",
    "    class_df.to_csv(save_dir+\"classes.csv\", index=True)\n",
    "    features_df.to_csv(save_dir+\"features.csv\", index=True)\n",
    "    return"
   ]
  },
  {
   "cell_type": "code",
   "execution_count": 14,
   "id": "d0fb1053-8ead-4e91-bb57-417f13f096af",
   "metadata": {},
   "outputs": [
    {
     "name": "stderr",
     "output_type": "stream",
     "text": [
      "100%|██████████████████████████████████████████████████████████████████████████████| 5000/5000 [14:07<00:00,  5.90it/s]\n"
     ]
    }
   ],
   "source": [
    "from pmlb import fetch_data\n",
    "\n",
    "base = \"C:/Users/colombelli/Desktop/TCC/data/PMLB/waveform_40/\"\n",
    "save_dir = base\n",
    "dataset = \"waveform_40\"\n",
    "\n",
    "df = fetch_data(dataset)\n",
    "class_df = build_class_df(df).dropna()\n",
    "df = df.loc[class_df.index, :]\n",
    "corr_df = get_correlation_dataframe(df.iloc[:, :-1])  # Remove 'target' column, which have the classes information"
   ]
  },
  {
   "cell_type": "code",
   "execution_count": 35,
   "id": "ddd56127-6d29-4428-bc23-92d06c74b430",
   "metadata": {},
   "outputs": [],
   "source": [
    "r_threshold = 0.8\n",
    "p_threshold = 0.05\n",
    "\n",
    "edge_list = build_edge_list(corr_df, r_threshold, p_threshold)"
   ]
  },
  {
   "cell_type": "code",
   "execution_count": 36,
   "id": "879861dc-f417-47d3-9972-179288270226",
   "metadata": {},
   "outputs": [
    {
     "data": {
      "text/plain": [
       "0.7237635928564169"
      ]
     },
     "execution_count": 36,
     "metadata": {},
     "output_type": "execute_result"
    }
   ],
   "source": [
    "get_consistency_index(edge_list, class_df)"
   ]
  },
  {
   "cell_type": "code",
   "execution_count": 40,
   "id": "c1a90833-6005-47cd-b35e-0520997bc0b9",
   "metadata": {},
   "outputs": [],
   "source": [
    "save_dir = base+\"r08/\"\n",
    "generate_csvs(edge_list, class_df, df.iloc[:, :-1])"
   ]
  },
  {
   "cell_type": "code",
   "execution_count": 28,
   "id": "db8e3c4a-73d0-46c2-a1de-8aa2e53fc3a5",
   "metadata": {},
   "outputs": [
    {
     "data": {
      "text/plain": [
       "class\n",
       "0        1692\n",
       "2        1655\n",
       "1        1653\n",
       "dtype: int64"
      ]
     },
     "execution_count": 28,
     "metadata": {},
     "output_type": "execute_result"
    }
   ],
   "source": [
    "class_df.value_counts()"
   ]
  },
  {
   "cell_type": "code",
   "execution_count": null,
   "id": "04e89614-6014-4834-a75d-b04d5634a17b",
   "metadata": {},
   "outputs": [],
   "source": []
  }
 ],
 "metadata": {
  "kernelspec": {
   "display_name": "Python 3",
   "language": "python",
   "name": "python3"
  },
  "language_info": {
   "codemirror_mode": {
    "name": "ipython",
    "version": 3
   },
   "file_extension": ".py",
   "mimetype": "text/x-python",
   "name": "python",
   "nbconvert_exporter": "python",
   "pygments_lexer": "ipython3",
   "version": "3.6.13"
  }
 },
 "nbformat": 4,
 "nbformat_minor": 5
}
