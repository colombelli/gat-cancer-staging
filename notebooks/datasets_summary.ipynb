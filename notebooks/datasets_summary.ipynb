{
 "cells": [
  {
   "cell_type": "code",
   "execution_count": 1,
   "id": "e3a2b799-c081-4a53-bb3a-f1c1cf0952ee",
   "metadata": {},
   "outputs": [],
   "source": [
    "import pandas as pd"
   ]
  },
  {
   "cell_type": "code",
   "execution_count": 11,
   "id": "a230bf03-c3a2-4e00-8d24-f7e5f35e7a5f",
   "metadata": {},
   "outputs": [
    {
     "name": "stdout",
     "output_type": "stream",
     "text": [
      "COAD\n",
      "stage2    112\n",
      "stage3     85\n",
      "stage1     44\n",
      "stage4     41\n",
      "Name: class, dtype: int64\n",
      "2000\n",
      "200\n",
      "2000\n",
      "\n",
      "\n",
      "\n",
      "KIRC\n",
      "stage1    152\n",
      "stage3     72\n",
      "stage4     58\n",
      "stage2     31\n",
      "Name: class, dtype: int64\n",
      "2000\n",
      "200\n",
      "2000\n",
      "\n",
      "\n",
      "\n",
      "LUAD\n",
      "stage1    244\n",
      "stage2    109\n",
      "stage3     73\n",
      "stage4     19\n",
      "Name: class, dtype: int64\n",
      "2000\n",
      "200\n",
      "2000\n",
      "\n",
      "\n",
      "\n"
     ]
    }
   ],
   "source": [
    "cancers = [\"COAD\", \"KIRC\", \"LUAD\"]\n",
    "\n",
    "for cancer in cancers:\n",
    "    print(cancer)\n",
    "    class_path = f\"C:/Users/colombelli/Desktop/TCC/experiments/{cancer}/snf/05/classes.csv\"\n",
    "    gene_path = f\"C:/Users/colombelli/Desktop/TCC/experiments/{cancer}/{cancer}_mRNA.csv\"\n",
    "    mirna_path = f\"C:/Users/colombelli/Desktop/TCC/experiments/{cancer}/{cancer}_miRNA.csv\"\n",
    "    methy_path = f\"C:/Users/colombelli/Desktop/TCC/experiments/{cancer}/{cancer}_Methy.csv\"\n",
    "\n",
    "    print(pd.read_csv(class_path, index_col=0)['class'].value_counts())\n",
    "    print(len(pd.read_csv(gene_path, index_col=0)))\n",
    "    print(len(pd.read_csv(mirna_path, index_col=0)))\n",
    "    print(len(pd.read_csv(methy_path, index_col=0)))\n",
    "    print(\"\\n\\n\")"
   ]
  },
  {
   "cell_type": "code",
   "execution_count": null,
   "id": "54079d2f-5794-4a32-9a77-c48fe237699c",
   "metadata": {},
   "outputs": [],
   "source": []
  }
 ],
 "metadata": {
  "kernelspec": {
   "display_name": "Python 3",
   "language": "python",
   "name": "python3"
  },
  "language_info": {
   "codemirror_mode": {
    "name": "ipython",
    "version": 3
   },
   "file_extension": ".py",
   "mimetype": "text/x-python",
   "name": "python",
   "nbconvert_exporter": "python",
   "pygments_lexer": "ipython3",
   "version": "3.6.13"
  }
 },
 "nbformat": 4,
 "nbformat_minor": 5
}
