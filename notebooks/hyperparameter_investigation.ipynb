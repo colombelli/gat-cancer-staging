{
 "cells": [
  {
   "cell_type": "code",
   "execution_count": 21,
   "id": "a95c9372-2faf-4b0b-a3bd-e886e4da4e1b",
   "metadata": {},
   "outputs": [],
   "source": [
    "import pandas as pd\n",
    "import numpy as np\n",
    "\n",
    "import seaborn as sns\n",
    "import matplotlib.pyplot as plt\n",
    "import matplotlib.cm as cm"
   ]
  },
  {
   "cell_type": "code",
   "execution_count": 33,
   "id": "74ea89ce-ce5d-4fa2-b48f-6835d34cad23",
   "metadata": {},
   "outputs": [],
   "source": [
    "def get_tuned_params_dict(lines):\n",
    "    \n",
    "    tuned_params = {}\n",
    "    for hp in lines[6:]:\n",
    "        if 'tuner/epochs' in hp:\n",
    "            break\n",
    "\n",
    "        hp_name, hp_choice = hp.split(':')\n",
    "        hp_choice = hp_choice[1:-1]\n",
    "\n",
    "        if hp_name in [\"dropout\", \"learning_rate\"]:\n",
    "            hp_choice = float(hp_choice)\n",
    "        else:\n",
    "            hp_choice = int(hp_choice)\n",
    "\n",
    "        tuned_params[hp_name] = hp_choice\n",
    "\n",
    "    if tuned_params['num_layers'] == 2:\n",
    "        tuned_params['layer_2_units'] = 0\n",
    "\n",
    "    elif tuned_params['num_layers'] == 1:\n",
    "        tuned_params['layer_1_units'] = 0\n",
    "        tuned_params['layer_2_units'] = 0\n",
    "    \n",
    "    return tuned_params\n",
    "\n",
    "\n",
    "def get_gnn_neurons_hp(cancer, strategy, gnn):\n",
    "    \n",
    "    neurons = {\n",
    "        \"layer_0_units\": [],\n",
    "        \"layer_1_units\": [],\n",
    "        \"layer_2_units\": []\n",
    "    }\n",
    "\n",
    "    for th in [\"001\", \"005\", \"01\", \"025\", \"05\", \"075\", \"09\", \"095\", \"099\"]:\n",
    "        \n",
    "        file = f\"C:/Users/colombelli/Desktop/TCC/experiments/{cancer}/{strategy}/{th}/{gnn}_tunner_best_results.txt\"\n",
    "        with open(file) as f:\n",
    "            lines = f.readlines()\n",
    "        tuned_params = get_tuned_params_dict(lines)\n",
    "\n",
    "        neurons['layer_0_units'].append(tuned_params['layer_0_units'])\n",
    "        neurons['layer_1_units'].append(tuned_params['layer_1_units'])\n",
    "        neurons['layer_2_units'].append(tuned_params['layer_2_units'])\n",
    "\n",
    "    df = pd.DataFrame(neurons, index=[\"0.01\", \"0.05\", \"0.1\", \"0.25\", \"0.5\", \"0.75\", \"0.9\", \"0.95\", \"0.99\"])\n",
    "    return df\n",
    "\n",
    "\n",
    "def get_mlp_neurons_hp(cancer):\n",
    "    \n",
    "    file = f\"C:/Users/colombelli/Desktop/TCC/experiments/{cancer}/mlp/mlp_tunner_best_results.txt\"\n",
    "    with open(file) as f:\n",
    "        lines = f.readlines()\n",
    "    tuned_params = get_tuned_params_dict(lines)\n",
    "    \n",
    "    neurons = {}\n",
    "    neurons['layer_0_units'] = [tuned_params['layer_0_units']]\n",
    "    neurons['layer_1_units'] = [tuned_params['layer_1_units']]\n",
    "    neurons['layer_2_units'] = [tuned_params['layer_2_units']]\n",
    "\n",
    "    df = pd.DataFrame(neurons, index=[\"0.01\", \"0.05\", \"0.1\", \"0.25\", \"0.5\", \"0.75\", \"0.9\", \"0.95\", \"0.99\"])\n",
    "    return df"
   ]
  },
  {
   "cell_type": "code",
   "execution_count": 41,
   "id": "81dfb9f8-272b-4e5d-9717-befec19a38bf",
   "metadata": {},
   "outputs": [],
   "source": [
    "df_gat_coad_cgen = get_gnn_neurons_hp(\"COAD\", \"correlation\", \"gat\")\n",
    "df_gcn_coad_cgen = get_gnn_neurons_hp(\"COAD\", \"correlation\", \"gcn\")\n",
    "df_mlp_coad = get_mlp_neurons_hp(\"COAD\")"
   ]
  },
  {
   "cell_type": "code",
   "execution_count": null,
   "id": "61646a2d-88a5-4920-b04d-20bb9d439b87",
   "metadata": {},
   "outputs": [],
   "source": []
  },
  {
   "cell_type": "code",
   "execution_count": 24,
   "id": "6b29ed89-37cb-4881-89fb-a96c14457e2b",
   "metadata": {},
   "outputs": [
    {
     "data": {
      "text/plain": [
       "Text(0.5, 1.0, 'GAT CGEN (COAD)')"
      ]
     },
     "execution_count": 24,
     "metadata": {},
     "output_type": "execute_result"
    },
    {
     "data": {
      "image/png": "[encoded data removed]",
      "text/plain": [
       "<Figure size 432x288 with 1 Axes>"
      ]
     },
     "metadata": {
      "needs_background": "light"
     },
     "output_type": "display_data"
    }
   ],
   "source": [
    "df.plot(kind='bar', stacked=True, color=['red', 'skyblue', 'green'])\n",
    " \n",
    "# labels for x & y axis\n",
    "plt.xlabel('Threshold (categorized)')\n",
    "plt.ylabel('Neurons on each layer')\n",
    " \n",
    "# title of plot\n",
    "plt.title('GAT CGEN (COAD)')"
   ]
  },
  {
   "cell_type": "code",
   "execution_count": null,
   "id": "6bfd7fc5-34db-4c23-bc5c-c508765c37ec",
   "metadata": {},
   "outputs": [],
   "source": []
  }
 ],
 "metadata": {
  "kernelspec": {
   "display_name": "Python 3",
   "language": "python",
   "name": "python3"
  },
  "language_info": {
   "codemirror_mode": {
    "name": "ipython",
    "version": 3
   },
   "file_extension": ".py",
   "mimetype": "text/x-python",
   "name": "python",
   "nbconvert_exporter": "python",
   "pygments_lexer": "ipython3",
   "version": "3.6.13"
  }
 },
 "nbformat": 4,
 "nbformat_minor": 5
}
